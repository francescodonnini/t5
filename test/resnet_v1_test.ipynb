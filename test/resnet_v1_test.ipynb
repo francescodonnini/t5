{
 "cells": [
  {
   "metadata": {
    "ExecuteTime": {
     "end_time": "2025-02-11T15:28:38.662238Z",
     "start_time": "2025-02-11T15:28:38.610752Z"
    }
   },
   "cell_type": "code",
   "source": [
    "import numpy as np\n",
    "\n",
    "batch = [np.random.random((299, 299, 1)) for _ in range(100)]\n",
    "batch = np.array(batch)"
   ],
   "id": "a228e7b74ab1b1c7",
   "outputs": [],
   "execution_count": 10
  },
  {
   "metadata": {
    "ExecuteTime": {
     "end_time": "2025-02-11T15:28:39.518804Z",
     "start_time": "2025-02-11T15:28:38.665530Z"
    }
   },
   "cell_type": "code",
   "source": [
    "from models.v4.resnet_v1 import StemV1\n",
    "\n",
    "stem = StemV1()\n",
    "z = stem(batch)\n",
    "assert z.shape == (100, 35, 35, 256)"
   ],
   "id": "8f9b5576a54c2d4f",
   "outputs": [],
   "execution_count": 11
  },
  {
   "metadata": {
    "ExecuteTime": {
     "end_time": "2025-02-11T15:28:40.103161Z",
     "start_time": "2025-02-11T15:28:39.527451Z"
    }
   },
   "cell_type": "code",
   "source": [
    "from models.v4.resnet_v1 import inception_a\n",
    "\n",
    "ia = inception_a()\n",
    "for _ in range(5):\n",
    "    z = ia(z)\n",
    "assert z.shape == (100, 35, 35, 256)"
   ],
   "id": "f017c044efbe9aec",
   "outputs": [
    {
     "name": "stderr",
     "output_type": "stream",
     "text": [
      "/home/francesco/Documents/Università/ML/t5/.venv/lib/python3.12/site-packages/keras/src/layers/layer.py:393: UserWarning: `build()` was called on layer 'inception_a_vx_1', however the layer does not have a `build()` method implemented and it looks like it has unbuilt state. This will cause the layer to be marked as built, despite not being actually built, which may cause failures down the line. Make sure to implement a proper `build()` method.\n",
      "  warnings.warn(\n"
     ]
    }
   ],
   "execution_count": 12
  },
  {
   "metadata": {
    "ExecuteTime": {
     "end_time": "2025-02-11T15:28:40.337494Z",
     "start_time": "2025-02-11T15:28:40.110846Z"
    }
   },
   "cell_type": "code",
   "source": [
    "from models.v4.resnet_v1 import reduction_a\n",
    "\n",
    "ra = reduction_a()\n",
    "z = ra(z)\n",
    "assert z.shape == (100, 17, 17, 896)"
   ],
   "id": "719972099e134d2e",
   "outputs": [],
   "execution_count": 13
  },
  {
   "metadata": {
    "ExecuteTime": {
     "end_time": "2025-02-11T15:28:41.163038Z",
     "start_time": "2025-02-11T15:28:40.344774Z"
    }
   },
   "cell_type": "code",
   "source": [
    "from models.v4.resnet_v1 import inception_b\n",
    "\n",
    "ib = inception_b()\n",
    "for _ in range(10):\n",
    "    z = ib(z)\n",
    "assert z.shape == (100, 17, 17, 896)"
   ],
   "id": "116c70f2062097a",
   "outputs": [],
   "execution_count": 14
  },
  {
   "metadata": {
    "ExecuteTime": {
     "end_time": "2025-02-11T15:28:41.358880Z",
     "start_time": "2025-02-11T15:28:41.170228Z"
    }
   },
   "cell_type": "code",
   "source": [
    "from models.v4.resnet_v1 import reduction_b\n",
    "\n",
    "rb = reduction_b()\n",
    "z = rb(z)\n",
    "assert z.shape == (100, 8, 8, 1792)"
   ],
   "id": "e596a93fb52d6b02",
   "outputs": [],
   "execution_count": 15
  },
  {
   "metadata": {
    "ExecuteTime": {
     "end_time": "2025-02-11T15:28:41.621804Z",
     "start_time": "2025-02-11T15:28:41.366340Z"
    }
   },
   "cell_type": "code",
   "source": [
    "from models.v4.resnet_v1 import inception_c\n",
    "\n",
    "ic = inception_c()\n",
    "for _ in range(5):\n",
    "    z = ic(z)\n",
    "assert z.shape == (100, 8, 8, 1792)"
   ],
   "id": "1af6e1991a5ff2dc",
   "outputs": [],
   "execution_count": 16
  },
  {
   "metadata": {
    "ExecuteTime": {
     "end_time": "2025-02-11T15:28:43.839599Z",
     "start_time": "2025-02-11T15:28:43.835980Z"
    }
   },
   "cell_type": "code",
   "source": [
    "from keras import layers\n",
    "\n",
    "avg_pooling = layers.AvgPool2D(8)\n",
    "z = avg_pooling(z)\n",
    "assert z.shape == (100, 1, 1, 1792)"
   ],
   "id": "41d7a1c0b1b2829d",
   "outputs": [],
   "execution_count": 17
  },
  {
   "metadata": {
    "ExecuteTime": {
     "end_time": "2025-02-11T15:29:00.441798Z",
     "start_time": "2025-02-11T15:29:00.437632Z"
    }
   },
   "cell_type": "code",
   "source": [
    "from keras import layers\n",
    "\n",
    "dropout = layers.Dropout(0.2)\n",
    "z = dropout(z)\n",
    "assert z.shape == (100, 1, 1, 1792)"
   ],
   "id": "610d0fc6f876884a",
   "outputs": [],
   "execution_count": 18
  },
  {
   "metadata": {
    "ExecuteTime": {
     "end_time": "2025-02-11T15:29:01.135664Z",
     "start_time": "2025-02-11T15:29:01.132653Z"
    }
   },
   "cell_type": "code",
   "source": [
    "from keras import layers\n",
    "\n",
    "flatten = layers.Flatten()\n",
    "z = flatten(z)\n",
    "assert z.shape == (100, 1792)"
   ],
   "id": "a377bbee0531e18a",
   "outputs": [],
   "execution_count": 19
  },
  {
   "metadata": {
    "ExecuteTime": {
     "end_time": "2025-02-11T15:29:02.568086Z",
     "start_time": "2025-02-11T15:29:02.540339Z"
    }
   },
   "cell_type": "code",
   "source": [
    "from keras import layers\n",
    "\n",
    "softmax = layers.Dense(2, activation='softmax')\n",
    "z = softmax(z)\n",
    "assert z.shape == (100, 2)"
   ],
   "id": "a4c876fb9920b9fb",
   "outputs": [],
   "execution_count": 20
  }
 ],
 "metadata": {
  "kernelspec": {
   "display_name": "Python 3",
   "language": "python",
   "name": "python3"
  },
  "language_info": {
   "codemirror_mode": {
    "name": "ipython",
    "version": 2
   },
   "file_extension": ".py",
   "mimetype": "text/x-python",
   "name": "python",
   "nbconvert_exporter": "python",
   "pygments_lexer": "ipython2",
   "version": "2.7.6"
  }
 },
 "nbformat": 4,
 "nbformat_minor": 5
}
