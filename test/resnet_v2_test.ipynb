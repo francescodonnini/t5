{
 "cells": [
  {
   "metadata": {
    "ExecuteTime": {
     "end_time": "2025-02-11T18:28:32.051344Z",
     "start_time": "2025-02-11T18:28:31.954260Z"
    }
   },
   "cell_type": "code",
   "source": [
    "import numpy as np\n",
    "\n",
    "batch = [np.random.random((299, 299, 1)) for _ in range(100)]\n",
    "batch = np.array(batch)"
   ],
   "id": "a228e7b74ab1b1c7",
   "outputs": [],
   "execution_count": 1
  },
  {
   "metadata": {
    "ExecuteTime": {
     "end_time": "2025-02-11T18:28:36.201149Z",
     "start_time": "2025-02-11T18:28:33.690096Z"
    }
   },
   "cell_type": "code",
   "source": [
    "from models.v4 import Stem\n",
    "\n",
    "stem = Stem()\n",
    "z = stem(batch)\n",
    "z.shape"
   ],
   "id": "8f9b5576a54c2d4f",
   "outputs": [
    {
     "name": "stderr",
     "output_type": "stream",
     "text": [
      "2025-02-11 19:28:33.794744: I tensorflow/core/util/port.cc:153] oneDNN custom operations are on. You may see slightly different numerical results due to floating-point round-off errors from different computation orders. To turn them off, set the environment variable `TF_ENABLE_ONEDNN_OPTS=0`.\n",
      "2025-02-11 19:28:33.795089: I external/local_xla/xla/tsl/cuda/cudart_stub.cc:32] Could not find cuda drivers on your machine, GPU will not be used.\n",
      "2025-02-11 19:28:33.796925: I external/local_xla/xla/tsl/cuda/cudart_stub.cc:32] Could not find cuda drivers on your machine, GPU will not be used.\n",
      "2025-02-11 19:28:33.801857: E external/local_xla/xla/stream_executor/cuda/cuda_fft.cc:477] Unable to register cuFFT factory: Attempting to register factory for plugin cuFFT when one has already been registered\n",
      "WARNING: All log messages before absl::InitializeLog() is called are written to STDERR\n",
      "E0000 00:00:1739298513.810074  175923 cuda_dnn.cc:8310] Unable to register cuDNN factory: Attempting to register factory for plugin cuDNN when one has already been registered\n",
      "E0000 00:00:1739298513.812518  175923 cuda_blas.cc:1418] Unable to register cuBLAS factory: Attempting to register factory for plugin cuBLAS when one has already been registered\n",
      "2025-02-11 19:28:33.821683: I tensorflow/core/platform/cpu_feature_guard.cc:210] This TensorFlow binary is optimized to use available CPU instructions in performance-critical operations.\n",
      "To enable the following instructions: AVX2 AVX512F AVX512_VNNI AVX512_BF16 AVX_VNNI FMA, in other operations, rebuild TensorFlow with the appropriate compiler flags.\n",
      "2025-02-11 19:28:34.952252: E external/local_xla/xla/stream_executor/cuda/cuda_driver.cc:152] failed call to cuInit: INTERNAL: CUDA error: Failed call to cuInit: UNKNOWN ERROR (303)\n"
     ]
    },
    {
     "data": {
      "text/plain": [
       "TensorShape([100, 35, 35, 384])"
      ]
     },
     "execution_count": 2,
     "metadata": {},
     "output_type": "execute_result"
    }
   ],
   "execution_count": 2
  },
  {
   "metadata": {
    "ExecuteTime": {
     "end_time": "2025-02-11T18:28:36.987408Z",
     "start_time": "2025-02-11T18:28:36.206979Z"
    }
   },
   "cell_type": "code",
   "source": [
    "from models.v4.resnet_v2 import inception_a\n",
    "\n",
    "ia = inception_a()\n",
    "for _ in range(5):\n",
    "    z = ia(z)\n",
    "z.shape"
   ],
   "id": "f017c044efbe9aec",
   "outputs": [
    {
     "name": "stderr",
     "output_type": "stream",
     "text": [
      "/home/francesco/Documents/Università/ML/t5/.venv/lib/python3.12/site-packages/keras/src/layers/layer.py:393: UserWarning: `build()` was called on layer 'inception_a_vx', however the layer does not have a `build()` method implemented and it looks like it has unbuilt state. This will cause the layer to be marked as built, despite not being actually built, which may cause failures down the line. Make sure to implement a proper `build()` method.\n",
      "  warnings.warn(\n"
     ]
    },
    {
     "data": {
      "text/plain": [
       "TensorShape([100, 35, 35, 384])"
      ]
     },
     "execution_count": 3,
     "metadata": {},
     "output_type": "execute_result"
    }
   ],
   "execution_count": 3
  },
  {
   "metadata": {
    "ExecuteTime": {
     "end_time": "2025-02-11T18:28:43.464574Z",
     "start_time": "2025-02-11T18:28:43.159803Z"
    }
   },
   "cell_type": "code",
   "source": [
    "from models.v4.resnet_v2 import reduction_a\n",
    "\n",
    "ra = reduction_a()\n",
    "z = ra(z)\n",
    "z.shape"
   ],
   "id": "719972099e134d2e",
   "outputs": [
    {
     "data": {
      "text/plain": [
       "TensorShape([100, 17, 17, 1152])"
      ]
     },
     "execution_count": 4,
     "metadata": {},
     "output_type": "execute_result"
    }
   ],
   "execution_count": 4
  },
  {
   "metadata": {
    "ExecuteTime": {
     "end_time": "2025-02-11T18:28:46.011183Z",
     "start_time": "2025-02-11T18:28:44.913363Z"
    }
   },
   "cell_type": "code",
   "source": [
    "from models.v4.resnet_v2 import inception_b\n",
    "\n",
    "ib = inception_b()\n",
    "for _ in range(10):\n",
    "    z = ib(z)\n",
    "z.shape"
   ],
   "id": "116c70f2062097a",
   "outputs": [
    {
     "data": {
      "text/plain": [
       "TensorShape([100, 17, 17, 1152])"
      ]
     },
     "execution_count": 5,
     "metadata": {},
     "output_type": "execute_result"
    }
   ],
   "execution_count": 5
  },
  {
   "metadata": {
    "ExecuteTime": {
     "end_time": "2025-02-11T18:28:52.097313Z",
     "start_time": "2025-02-11T18:28:51.886093Z"
    }
   },
   "cell_type": "code",
   "source": [
    "from models.v4.resnet_v1 import reduction_b\n",
    "\n",
    "rb = reduction_b()\n",
    "z = rb(z)\n",
    "z.shape"
   ],
   "id": "e596a93fb52d6b02",
   "outputs": [
    {
     "data": {
      "text/plain": [
       "TensorShape([100, 8, 8, 2048])"
      ]
     },
     "execution_count": 6,
     "metadata": {},
     "output_type": "execute_result"
    }
   ],
   "execution_count": 6
  },
  {
   "metadata": {
    "ExecuteTime": {
     "end_time": "2025-02-11T18:28:55.300252Z",
     "start_time": "2025-02-11T18:28:55.012618Z"
    }
   },
   "cell_type": "code",
   "source": [
    "from models.v4.resnet_v1 import inception_c\n",
    "\n",
    "ic = inception_c()\n",
    "for _ in range(5):\n",
    "    z = ic(z)\n",
    "z.shape"
   ],
   "id": "1af6e1991a5ff2dc",
   "outputs": [
    {
     "ename": "ValueError",
     "evalue": "Exception encountered when calling InceptionWVx.call().\n\n\u001B[1mInputs have incompatible shapes. Received shapes (8, 8, 2048) and (8, 8, 1792)\u001B[0m\n\nArguments received by InceptionWVx.call():\n  • inputs=tf.Tensor(shape=(100, 8, 8, 2048), dtype=float32)",
     "output_type": "error",
     "traceback": [
      "\u001B[0;31m---------------------------------------------------------------------------\u001B[0m",
      "\u001B[0;31mValueError\u001B[0m                                Traceback (most recent call last)",
      "Cell \u001B[0;32mIn[7], line 5\u001B[0m\n\u001B[1;32m      3\u001B[0m ic \u001B[38;5;241m=\u001B[39m inception_c()\n\u001B[1;32m      4\u001B[0m \u001B[38;5;28;01mfor\u001B[39;00m _ \u001B[38;5;129;01min\u001B[39;00m \u001B[38;5;28mrange\u001B[39m(\u001B[38;5;241m5\u001B[39m):\n\u001B[0;32m----> 5\u001B[0m     z \u001B[38;5;241m=\u001B[39m \u001B[43mic\u001B[49m\u001B[43m(\u001B[49m\u001B[43mz\u001B[49m\u001B[43m)\u001B[49m\n\u001B[1;32m      6\u001B[0m z\u001B[38;5;241m.\u001B[39mshape\n",
      "File \u001B[0;32m~/Documents/Università/ML/t5/.venv/lib/python3.12/site-packages/keras/src/utils/traceback_utils.py:122\u001B[0m, in \u001B[0;36mfilter_traceback.<locals>.error_handler\u001B[0;34m(*args, **kwargs)\u001B[0m\n\u001B[1;32m    119\u001B[0m     filtered_tb \u001B[38;5;241m=\u001B[39m _process_traceback_frames(e\u001B[38;5;241m.\u001B[39m__traceback__)\n\u001B[1;32m    120\u001B[0m     \u001B[38;5;66;03m# To get the full stack trace, call:\u001B[39;00m\n\u001B[1;32m    121\u001B[0m     \u001B[38;5;66;03m# `keras.config.disable_traceback_filtering()`\u001B[39;00m\n\u001B[0;32m--> 122\u001B[0m     \u001B[38;5;28;01mraise\u001B[39;00m e\u001B[38;5;241m.\u001B[39mwith_traceback(filtered_tb) \u001B[38;5;28;01mfrom\u001B[39;00m\u001B[38;5;250m \u001B[39m\u001B[38;5;28;01mNone\u001B[39;00m\n\u001B[1;32m    123\u001B[0m \u001B[38;5;28;01mfinally\u001B[39;00m:\n\u001B[1;32m    124\u001B[0m     \u001B[38;5;28;01mdel\u001B[39;00m filtered_tb\n",
      "File \u001B[0;32m~/Documents/Università/ML/t5/models/v4/resnet_vx.py:49\u001B[0m, in \u001B[0;36mInceptionWVx.call\u001B[0;34m(self, inputs)\u001B[0m\n\u001B[1;32m     47\u001B[0m x \u001B[38;5;241m=\u001B[39m layers\u001B[38;5;241m.\u001B[39mConcatenate()([x1, x2])\n\u001B[1;32m     48\u001B[0m x \u001B[38;5;241m=\u001B[39m \u001B[38;5;28mself\u001B[39m\u001B[38;5;241m.\u001B[39mconv(x)\n\u001B[0;32m---> 49\u001B[0m x \u001B[38;5;241m=\u001B[39m \u001B[43mlayers\u001B[49m\u001B[38;5;241;43m.\u001B[39;49m\u001B[43mAdd\u001B[49m\u001B[43m(\u001B[49m\u001B[43m)\u001B[49m\u001B[43m(\u001B[49m\u001B[43m[\u001B[49m\u001B[43minputs\u001B[49m\u001B[43m,\u001B[49m\u001B[43m \u001B[49m\u001B[43mx\u001B[49m\u001B[43m]\u001B[49m\u001B[43m)\u001B[49m\n\u001B[1;32m     50\u001B[0m \u001B[38;5;28;01mreturn\u001B[39;00m activations\u001B[38;5;241m.\u001B[39mrelu(x)\n",
      "\u001B[0;31mValueError\u001B[0m: Exception encountered when calling InceptionWVx.call().\n\n\u001B[1mInputs have incompatible shapes. Received shapes (8, 8, 2048) and (8, 8, 1792)\u001B[0m\n\nArguments received by InceptionWVx.call():\n  • inputs=tf.Tensor(shape=(100, 8, 8, 2048), dtype=float32)"
     ]
    }
   ],
   "execution_count": 7
  },
  {
   "metadata": {
    "ExecuteTime": {
     "end_time": "2025-02-11T18:20:59.156478675Z",
     "start_time": "2025-02-11T15:28:43.835980Z"
    }
   },
   "cell_type": "code",
   "source": [
    "from keras import layers\n",
    "\n",
    "avg_pooling = layers.AvgPool2D(8)\n",
    "z = avg_pooling(z)\n",
    "z.shape"
   ],
   "id": "41d7a1c0b1b2829d",
   "outputs": [],
   "execution_count": 17
  },
  {
   "metadata": {
    "ExecuteTime": {
     "end_time": "2025-02-11T18:20:59.159177485Z",
     "start_time": "2025-02-11T15:29:00.437632Z"
    }
   },
   "cell_type": "code",
   "source": [
    "from keras import layers\n",
    "\n",
    "dropout = layers.Dropout(0.2)\n",
    "z = dropout(z)\n",
    "z.shape"
   ],
   "id": "610d0fc6f876884a",
   "outputs": [],
   "execution_count": 18
  },
  {
   "metadata": {
    "ExecuteTime": {
     "end_time": "2025-02-11T18:20:59.159439929Z",
     "start_time": "2025-02-11T15:29:01.132653Z"
    }
   },
   "cell_type": "code",
   "source": [
    "from keras import layers\n",
    "\n",
    "flatten = layers.Flatten()\n",
    "z = flatten(z)\n",
    "z.shape"
   ],
   "id": "a377bbee0531e18a",
   "outputs": [],
   "execution_count": 19
  },
  {
   "metadata": {
    "ExecuteTime": {
     "end_time": "2025-02-11T18:20:59.160126401Z",
     "start_time": "2025-02-11T15:29:02.540339Z"
    }
   },
   "cell_type": "code",
   "source": [
    "from keras import layers\n",
    "\n",
    "softmax = layers.Dense(2, activation='softmax')\n",
    "z = softmax(z)\n",
    "z.shape"
   ],
   "id": "a4c876fb9920b9fb",
   "outputs": [],
   "execution_count": 20
  }
 ],
 "metadata": {
  "kernelspec": {
   "display_name": "Python 3",
   "language": "python",
   "name": "python3"
  },
  "language_info": {
   "codemirror_mode": {
    "name": "ipython",
    "version": 2
   },
   "file_extension": ".py",
   "mimetype": "text/x-python",
   "name": "python",
   "nbconvert_exporter": "python",
   "pygments_lexer": "ipython2",
   "version": "2.7.6"
  }
 },
 "nbformat": 4,
 "nbformat_minor": 5
}
