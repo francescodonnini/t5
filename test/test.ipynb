{
 "cells": [
  {
   "metadata": {
    "ExecuteTime": {
     "end_time": "2025-02-11T14:17:42.113092Z",
     "start_time": "2025-02-11T14:17:42.040661Z"
    }
   },
   "cell_type": "code",
   "source": [
    "import numpy as np\n",
    "\n",
    "batch = [np.random.random((224, 224, 1)) for _ in range(100)]\n",
    "batch = np.array(batch)"
   ],
   "id": "8886c880f2cebf3d",
   "outputs": [],
   "execution_count": 1
  },
  {
   "cell_type": "code",
   "id": "initial_id",
   "metadata": {
    "collapsed": true,
    "ExecuteTime": {
     "end_time": "2025-02-11T14:17:44.118518Z",
     "start_time": "2025-02-11T14:17:42.116718Z"
    }
   },
   "source": [
    "from core.v4 import Stem\n",
    "\n",
    "stem = Stem()\n",
    "z = stem(batch)\n",
    "z.shape"
   ],
   "outputs": [
    {
     "name": "stderr",
     "output_type": "stream",
     "text": [
      "2025-02-11 15:17:42.230335: I tensorflow/core/util/port.cc:153] oneDNN custom operations are on. You may see slightly different numerical results due to floating-point round-off errors from different computation orders. To turn them off, set the environment variable `TF_ENABLE_ONEDNN_OPTS=0`.\n",
      "2025-02-11 15:17:42.230682: I external/local_xla/xla/tsl/cuda/cudart_stub.cc:32] Could not find cuda drivers on your machine, GPU will not be used.\n",
      "2025-02-11 15:17:42.232482: I external/local_xla/xla/tsl/cuda/cudart_stub.cc:32] Could not find cuda drivers on your machine, GPU will not be used.\n",
      "2025-02-11 15:17:42.236686: E external/local_xla/xla/stream_executor/cuda/cuda_fft.cc:477] Unable to register cuFFT factory: Attempting to register factory for plugin cuFFT when one has already been registered\n",
      "WARNING: All log messages before absl::InitializeLog() is called are written to STDERR\n",
      "E0000 00:00:1739283462.243522   95312 cuda_dnn.cc:8310] Unable to register cuDNN factory: Attempting to register factory for plugin cuDNN when one has already been registered\n",
      "E0000 00:00:1739283462.245573   95312 cuda_blas.cc:1418] Unable to register cuBLAS factory: Attempting to register factory for plugin cuBLAS when one has already been registered\n",
      "2025-02-11 15:17:42.253501: I tensorflow/core/platform/cpu_feature_guard.cc:210] This TensorFlow binary is optimized to use available CPU instructions in performance-critical operations.\n",
      "To enable the following instructions: AVX2 AVX512F AVX512_VNNI AVX512_BF16 AVX_VNNI FMA, in other operations, rebuild TensorFlow with the appropriate compiler flags.\n",
      "2025-02-11 15:17:43.340084: E external/local_xla/xla/stream_executor/cuda/cuda_driver.cc:152] failed call to cuInit: INTERNAL: CUDA error: Failed call to cuInit: UNKNOWN ERROR (303)\n"
     ]
    },
    {
     "data": {
      "text/plain": [
       "TensorShape([100, 25, 25, 384])"
      ]
     },
     "execution_count": 2,
     "metadata": {},
     "output_type": "execute_result"
    }
   ],
   "execution_count": 2
  },
  {
   "metadata": {
    "ExecuteTime": {
     "end_time": "2025-02-11T14:17:44.623766Z",
     "start_time": "2025-02-11T14:17:44.157967Z"
    }
   },
   "cell_type": "code",
   "source": [
    "from core.v4 import InceptionA\n",
    "inception_a = InceptionA()\n",
    "for _ in range(4):\n",
    "    z = inception_a(z)\n",
    "z.shape"
   ],
   "id": "58da76e0b3708998",
   "outputs": [
    {
     "data": {
      "text/plain": [
       "TensorShape([100, 25, 25, 384])"
      ]
     },
     "execution_count": 3,
     "metadata": {},
     "output_type": "execute_result"
    }
   ],
   "execution_count": 3
  },
  {
   "metadata": {
    "ExecuteTime": {
     "end_time": "2025-02-11T14:17:44.801398Z",
     "start_time": "2025-02-11T14:17:44.631022Z"
    }
   },
   "cell_type": "code",
   "source": [
    "from core.v4 import ReductionA\n",
    "\n",
    "reduction_a = ReductionA(192, 224, 256, 384)\n",
    "z = reduction_a(z)\n",
    "z.shape"
   ],
   "id": "80bb99c18e07882d",
   "outputs": [
    {
     "data": {
      "text/plain": [
       "TensorShape([100, 12, 12, 1024])"
      ]
     },
     "execution_count": 4,
     "metadata": {},
     "output_type": "execute_result"
    }
   ],
   "execution_count": 4
  },
  {
   "metadata": {
    "ExecuteTime": {
     "end_time": "2025-02-11T14:17:45.491643Z",
     "start_time": "2025-02-11T14:17:44.809762Z"
    }
   },
   "cell_type": "code",
   "source": [
    "from core.v4.base import InceptionB\n",
    "\n",
    "inception_b = InceptionB()\n",
    "for _ in range(7):\n",
    "    z = inception_b(z)\n",
    "z.shape"
   ],
   "id": "18da291226ec4a48",
   "outputs": [
    {
     "data": {
      "text/plain": [
       "TensorShape([100, 12, 12, 1024])"
      ]
     },
     "execution_count": 5,
     "metadata": {},
     "output_type": "execute_result"
    }
   ],
   "execution_count": 5
  },
  {
   "metadata": {
    "ExecuteTime": {
     "end_time": "2025-02-11T14:17:45.623752Z",
     "start_time": "2025-02-11T14:17:45.498237Z"
    }
   },
   "cell_type": "code",
   "source": [
    "from core.v4.base import ReductionB\n",
    "\n",
    "reduction_b = ReductionB()\n",
    "z = reduction_b(z)\n",
    "z.shape"
   ],
   "id": "c5581a289646ca9e",
   "outputs": [
    {
     "data": {
      "text/plain": [
       "TensorShape([100, 5, 5, 1536])"
      ]
     },
     "execution_count": 6,
     "metadata": {},
     "output_type": "execute_result"
    }
   ],
   "execution_count": 6
  },
  {
   "metadata": {
    "ExecuteTime": {
     "end_time": "2025-02-11T14:17:45.885177Z",
     "start_time": "2025-02-11T14:17:45.629434Z"
    }
   },
   "cell_type": "code",
   "source": [
    "from core.v4.base import InceptionC\n",
    "\n",
    "inception_c = InceptionC()\n",
    "for _ in range(4):\n",
    "    z = inception_c(z)\n",
    "z.shape"
   ],
   "id": "d99de1b5a0cba14e",
   "outputs": [
    {
     "data": {
      "text/plain": [
       "TensorShape([100, 5, 5, 1536])"
      ]
     },
     "execution_count": 7,
     "metadata": {},
     "output_type": "execute_result"
    }
   ],
   "execution_count": 7
  },
  {
   "metadata": {
    "ExecuteTime": {
     "end_time": "2025-02-11T14:17:45.895044Z",
     "start_time": "2025-02-11T14:17:45.891287Z"
    }
   },
   "cell_type": "code",
   "source": [
    "from keras import layers\n",
    "\n",
    "avg_pooling = layers.AvgPool2D(5)\n",
    "z = avg_pooling(z)\n",
    "z.shape"
   ],
   "id": "a4d267c970cf2f95",
   "outputs": [
    {
     "data": {
      "text/plain": [
       "TensorShape([100, 1, 1, 1536])"
      ]
     },
     "execution_count": 8,
     "metadata": {},
     "output_type": "execute_result"
    }
   ],
   "execution_count": 8
  },
  {
   "metadata": {
    "ExecuteTime": {
     "end_time": "2025-02-11T14:17:45.991628Z",
     "start_time": "2025-02-11T14:17:45.987775Z"
    }
   },
   "cell_type": "code",
   "source": [
    "from keras import layers\n",
    "\n",
    "dropout = layers.Dropout(0.2)\n",
    "z = dropout(z)\n",
    "z.shape"
   ],
   "id": "438a47129a9edc8f",
   "outputs": [
    {
     "data": {
      "text/plain": [
       "TensorShape([100, 1, 1, 1536])"
      ]
     },
     "execution_count": 9,
     "metadata": {},
     "output_type": "execute_result"
    }
   ],
   "execution_count": 9
  },
  {
   "metadata": {
    "ExecuteTime": {
     "end_time": "2025-02-11T14:17:46.088912Z",
     "start_time": "2025-02-11T14:17:46.086033Z"
    }
   },
   "cell_type": "code",
   "source": [
    "from keras import layers\n",
    "\n",
    "flatten = layers.Flatten()\n",
    "z = flatten(z)\n",
    "z.shape"
   ],
   "id": "ecc0c1548a9eee9",
   "outputs": [
    {
     "data": {
      "text/plain": [
       "TensorShape([100, 1536])"
      ]
     },
     "execution_count": 10,
     "metadata": {},
     "output_type": "execute_result"
    }
   ],
   "execution_count": 10
  },
  {
   "metadata": {
    "ExecuteTime": {
     "end_time": "2025-02-11T14:17:46.184363Z",
     "start_time": "2025-02-11T14:17:46.158846Z"
    }
   },
   "cell_type": "code",
   "source": [
    "from keras import layers\n",
    "\n",
    "softmax = layers.Dense(2, activation='softmax')\n",
    "z = softmax(z)\n",
    "z.shape"
   ],
   "id": "32996356df242f2b",
   "outputs": [
    {
     "data": {
      "text/plain": [
       "TensorShape([100, 2])"
      ]
     },
     "execution_count": 11,
     "metadata": {},
     "output_type": "execute_result"
    }
   ],
   "execution_count": 11
  }
 ],
 "metadata": {
  "kernelspec": {
   "display_name": "Python 3",
   "language": "python",
   "name": "python3"
  },
  "language_info": {
   "codemirror_mode": {
    "name": "ipython",
    "version": 2
   },
   "file_extension": ".py",
   "mimetype": "text/x-python",
   "name": "python",
   "nbconvert_exporter": "python",
   "pygments_lexer": "ipython2",
   "version": "2.7.6"
  }
 },
 "nbformat": 4,
 "nbformat_minor": 5
}
