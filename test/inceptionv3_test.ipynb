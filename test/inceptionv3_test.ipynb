{
 "cells": [
  {
   "metadata": {
    "ExecuteTime": {
     "end_time": "2025-02-13T17:13:00.128217Z",
     "start_time": "2025-02-13T17:13:00.126571Z"
    }
   },
   "cell_type": "code",
   "source": [
    "import os\n",
    "\n",
    "os.environ['TF_CPP_MIN_LOG_LEVEL'] = '3'"
   ],
   "id": "5754b4a8768dba97",
   "outputs": [],
   "execution_count": 1
  },
  {
   "metadata": {
    "ExecuteTime": {
     "end_time": "2025-02-13T17:13:01.462821Z",
     "start_time": "2025-02-13T17:13:00.170880Z"
    }
   },
   "cell_type": "code",
   "source": [
    "from keras import layers\n",
    "import numpy as np\n",
    "\n",
    "batch = [np.random.random((224, 224, 1)) for _ in range(100)]\n",
    "batch = np.array(batch)\n",
    "batch.shape"
   ],
   "id": "908564fe500d4156",
   "outputs": [
    {
     "name": "stderr",
     "output_type": "stream",
     "text": [
      "WARNING: All log messages before absl::InitializeLog() is called are written to STDERR\n",
      "E0000 00:00:1739466780.342643   74089 cuda_dnn.cc:8310] Unable to register cuDNN factory: Attempting to register factory for plugin cuDNN when one has already been registered\n",
      "E0000 00:00:1739466780.345080   74089 cuda_blas.cc:1418] Unable to register cuBLAS factory: Attempting to register factory for plugin cuBLAS when one has already been registered\n"
     ]
    },
    {
     "data": {
      "text/plain": [
       "(100, 224, 224, 1)"
      ]
     },
     "execution_count": 2,
     "metadata": {},
     "output_type": "execute_result"
    }
   ],
   "execution_count": 2
  },
  {
   "metadata": {
    "ExecuteTime": {
     "end_time": "2025-02-13T17:13:01.968777Z",
     "start_time": "2025-02-13T17:13:01.497804Z"
    }
   },
   "cell_type": "code",
   "source": [
    "from models.common import conv_block\n",
    "\n",
    "b1 = conv_block(32, 3, 2, padding='valid', activation='relu')\n",
    "b2 = conv_block(32, 3, 1, padding='valid', activation='relu')\n",
    "b3 = conv_block(64, 3, 1, activation='relu')\n",
    "z = b1(batch)\n",
    "print(z.shape)\n",
    "z = b2(z)\n",
    "print(z.shape)\n",
    "z = b3(z)\n",
    "print(z.shape)"
   ],
   "id": "96ec7c1780273e34",
   "outputs": [
    {
     "name": "stdout",
     "output_type": "stream",
     "text": [
      "(100, 111, 111, 32)\n",
      "(100, 109, 109, 32)\n",
      "(100, 109, 109, 64)\n"
     ]
    }
   ],
   "execution_count": 3
  },
  {
   "metadata": {
    "ExecuteTime": {
     "end_time": "2025-02-13T17:13:01.992393Z",
     "start_time": "2025-02-13T17:13:01.977161Z"
    }
   },
   "cell_type": "code",
   "source": [
    "b4 = layers.MaxPool2D(3, 2)\n",
    "z = b4(z)\n",
    "z.shape"
   ],
   "id": "847932d9340d4070",
   "outputs": [
    {
     "data": {
      "text/plain": [
       "TensorShape([100, 54, 54, 64])"
      ]
     },
     "execution_count": 4,
     "metadata": {},
     "output_type": "execute_result"
    }
   ],
   "execution_count": 4
  },
  {
   "metadata": {
    "ExecuteTime": {
     "end_time": "2025-02-13T17:13:02.270681Z",
     "start_time": "2025-02-13T17:13:02.020895Z"
    }
   },
   "cell_type": "code",
   "source": [
    "b5 = conv_block(80, 1, padding='valid', activation='relu')\n",
    "b6 = conv_block(192, 3, padding='valid', activation='relu')\n",
    "b7 = conv_block(288, 3, 2, padding='valid', activation='relu')\n",
    "z = b5(z)\n",
    "print(z.shape)\n",
    "z = b6(z)\n",
    "print(z.shape)\n",
    "z = b7(z)\n",
    "print(z.shape)"
   ],
   "id": "7f2bc9f3b043205",
   "outputs": [
    {
     "name": "stdout",
     "output_type": "stream",
     "text": [
      "(100, 54, 54, 80)\n",
      "(100, 52, 52, 192)\n",
      "(100, 25, 25, 288)\n"
     ]
    }
   ],
   "execution_count": 5
  },
  {
   "metadata": {
    "ExecuteTime": {
     "end_time": "2025-02-13T17:13:03.349084Z",
     "start_time": "2025-02-13T17:13:02.278039Z"
    }
   },
   "cell_type": "code",
   "source": [
    "from models.inception_v3 import InceptionV3A\n",
    "\n",
    "for _ in range(5):\n",
    "    z = InceptionV3A()(z)\n",
    "z.shape"
   ],
   "id": "83dc0ad2393be8b7",
   "outputs": [
    {
     "data": {
      "text/plain": [
       "TensorShape([100, 25, 25, 288])"
      ]
     },
     "execution_count": 6,
     "metadata": {},
     "output_type": "execute_result"
    }
   ],
   "execution_count": 6
  },
  {
   "metadata": {
    "ExecuteTime": {
     "end_time": "2025-02-13T17:13:03.486426Z",
     "start_time": "2025-02-13T17:13:03.355635Z"
    }
   },
   "cell_type": "code",
   "source": [
    "from keras import layers, models\n",
    "\n",
    "b3x3_1 = conv_block(384, 3, 2, padding=\"valid\", activation='relu')\n",
    "b3x3_2 = models.Sequential([\n",
    "    conv_block(64, 1, activation='relu'),\n",
    "    conv_block(96, 3, activation='relu'),\n",
    "    conv_block(96, 3, 2, padding='valid', activation='relu'),\n",
    "])\n",
    "pool = layers.MaxPool2D(3, 2)\n",
    "z = layers.Concatenate()([b3x3_1(z), b3x3_2(z), pool(z)])\n",
    "z.shape"
   ],
   "id": "be01894411aba42e",
   "outputs": [
    {
     "data": {
      "text/plain": [
       "TensorShape([100, 12, 12, 768])"
      ]
     },
     "execution_count": 7,
     "metadata": {},
     "output_type": "execute_result"
    }
   ],
   "execution_count": 7
  },
  {
   "metadata": {
    "ExecuteTime": {
     "end_time": "2025-02-13T17:13:04.795323Z",
     "start_time": "2025-02-13T17:13:03.493230Z"
    }
   },
   "cell_type": "code",
   "source": [
    "from models.inception_v3 import InceptionV3B\n",
    "\n",
    "for _ in range(5):\n",
    "    z = InceptionV3B()(z)\n",
    "z.shape"
   ],
   "id": "c1ae91a41268f198",
   "outputs": [
    {
     "data": {
      "text/plain": [
       "TensorShape([100, 12, 12, 768])"
      ]
     },
     "execution_count": 8,
     "metadata": {},
     "output_type": "execute_result"
    }
   ],
   "execution_count": 8
  },
  {
   "metadata": {
    "ExecuteTime": {
     "end_time": "2025-02-13T17:13:04.951118Z",
     "start_time": "2025-02-13T17:13:04.801721Z"
    }
   },
   "cell_type": "code",
   "source": [
    "from keras import layers, models\n",
    "\n",
    "b3x3_1 = models.Sequential([\n",
    "    conv_block(192, 1, activation='relu'),\n",
    "    conv_block(320, 3, 2, padding='valid', activation='relu'),\n",
    "])\n",
    "b3x3_2 = models.Sequential([\n",
    "    conv_block(192, 1, activation='relu'),\n",
    "    conv_block(192, (1, 7), activation='relu'),\n",
    "    conv_block(192, (7, 1), activation='relu'),\n",
    "    conv_block(192, 3, 2, padding='valid', activation='relu'),\n",
    "])\n",
    "pool = layers.MaxPool2D(3, 2)\n",
    "z = layers.Concatenate()([b3x3_1(z), b3x3_2(z), pool(z)])\n",
    "z.shape"
   ],
   "id": "8e7d5f4e9772090d",
   "outputs": [
    {
     "data": {
      "text/plain": [
       "TensorShape([100, 5, 5, 1280])"
      ]
     },
     "execution_count": 9,
     "metadata": {},
     "output_type": "execute_result"
    }
   ],
   "execution_count": 9
  },
  {
   "metadata": {
    "ExecuteTime": {
     "end_time": "2025-02-13T17:13:05.519021Z",
     "start_time": "2025-02-13T17:13:04.958213Z"
    }
   },
   "cell_type": "code",
   "source": [
    "from models.inception_v3 import InceptionV3C\n",
    "\n",
    "for _ in range(2):\n",
    "    z = InceptionV3C()(z)\n",
    "z.shape"
   ],
   "id": "b9834ca455d766c1",
   "outputs": [
    {
     "data": {
      "text/plain": [
       "TensorShape([100, 5, 5, 2048])"
      ]
     },
     "execution_count": 10,
     "metadata": {},
     "output_type": "execute_result"
    }
   ],
   "execution_count": 10
  },
  {
   "metadata": {
    "ExecuteTime": {
     "end_time": "2025-02-13T17:13:05.530111Z",
     "start_time": "2025-02-13T17:13:05.526635Z"
    }
   },
   "cell_type": "code",
   "source": [
    "z = layers.GlobalAvgPool2D()(z)\n",
    "z.shape"
   ],
   "id": "ca17a816f456282b",
   "outputs": [
    {
     "data": {
      "text/plain": [
       "TensorShape([100, 2048])"
      ]
     },
     "execution_count": 11,
     "metadata": {},
     "output_type": "execute_result"
    }
   ],
   "execution_count": 11
  },
  {
   "metadata": {
    "ExecuteTime": {
     "end_time": "2025-02-13T17:13:05.628826Z",
     "start_time": "2025-02-13T17:13:05.624577Z"
    }
   },
   "cell_type": "code",
   "source": [
    "z = layers.Dropout(0.2)(z)\n",
    "z.shape"
   ],
   "id": "f4970248aba79f01",
   "outputs": [
    {
     "data": {
      "text/plain": [
       "TensorShape([100, 2048])"
      ]
     },
     "execution_count": 12,
     "metadata": {},
     "output_type": "execute_result"
    }
   ],
   "execution_count": 12
  },
  {
   "metadata": {
    "ExecuteTime": {
     "end_time": "2025-02-13T17:13:05.725739Z",
     "start_time": "2025-02-13T17:13:05.724312Z"
    }
   },
   "cell_type": "code",
   "source": [
    "z = layers.Flatten()(z)\n",
    "z.shape"
   ],
   "id": "e1906ec5ece1d937",
   "outputs": [],
   "execution_count": 13
  },
  {
   "metadata": {
    "ExecuteTime": {
     "end_time": "2025-02-13T17:13:05.793478Z",
     "start_time": "2025-02-13T17:13:05.768715Z"
    }
   },
   "cell_type": "code",
   "source": [
    "z = layers.Dense(1024, activation='linear')(z)\n",
    "z.shape"
   ],
   "id": "67a54be0345ed244",
   "outputs": [
    {
     "data": {
      "text/plain": [
       "TensorShape([100, 1024])"
      ]
     },
     "execution_count": 14,
     "metadata": {},
     "output_type": "execute_result"
    }
   ],
   "execution_count": 14
  },
  {
   "metadata": {
    "ExecuteTime": {
     "end_time": "2025-02-13T17:13:05.818151Z",
     "start_time": "2025-02-13T17:13:05.815096Z"
    }
   },
   "cell_type": "code",
   "source": [
    "z = layers.Dropout(0.5)(z)\n",
    "z.shape"
   ],
   "id": "77c42b2a22c553d9",
   "outputs": [
    {
     "data": {
      "text/plain": [
       "TensorShape([100, 1024])"
      ]
     },
     "execution_count": 15,
     "metadata": {},
     "output_type": "execute_result"
    }
   ],
   "execution_count": 15
  },
  {
   "metadata": {
    "ExecuteTime": {
     "end_time": "2025-02-13T17:13:05.869500Z",
     "start_time": "2025-02-13T17:13:05.861213Z"
    }
   },
   "cell_type": "code",
   "source": [
    "z = layers.Dense(2, activation='softmax')(z)\n",
    "z.shape"
   ],
   "id": "88dc590994454f82",
   "outputs": [
    {
     "data": {
      "text/plain": [
       "TensorShape([100, 2])"
      ]
     },
     "execution_count": 16,
     "metadata": {},
     "output_type": "execute_result"
    }
   ],
   "execution_count": 16
  }
 ],
 "metadata": {
  "kernelspec": {
   "display_name": "Python 3",
   "language": "python",
   "name": "python3"
  },
  "language_info": {
   "codemirror_mode": {
    "name": "ipython",
    "version": 2
   },
   "file_extension": ".py",
   "mimetype": "text/x-python",
   "name": "python",
   "nbconvert_exporter": "python",
   "pygments_lexer": "ipython2",
   "version": "2.7.6"
  }
 },
 "nbformat": 4,
 "nbformat_minor": 5
}
