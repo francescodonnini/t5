{
 "cells": [
  {
   "metadata": {
    "ExecuteTime": {
     "end_time": "2025-02-12T23:55:21.886938Z",
     "start_time": "2025-02-12T23:55:20.619254Z"
    }
   },
   "cell_type": "code",
   "source": [
    "import os\n",
    "\n",
    "from models.inception_v3 import InceptionV3A\n",
    "\n",
    "os.environ['TF_CPP_MIN_LOG_LEVEL'] = '3'"
   ],
   "id": "5754b4a8768dba97",
   "outputs": [
    {
     "name": "stderr",
     "output_type": "stream",
     "text": [
      "2025-02-13 00:55:20.755708: I tensorflow/core/util/port.cc:153] oneDNN custom operations are on. You may see slightly different numerical results due to floating-point round-off errors from different computation orders. To turn them off, set the environment variable `TF_ENABLE_ONEDNN_OPTS=0`.\n",
      "2025-02-13 00:55:20.756007: I external/local_xla/xla/tsl/cuda/cudart_stub.cc:32] Could not find cuda drivers on your machine, GPU will not be used.\n",
      "2025-02-13 00:55:20.757573: I external/local_xla/xla/tsl/cuda/cudart_stub.cc:32] Could not find cuda drivers on your machine, GPU will not be used.\n",
      "2025-02-13 00:55:20.762065: E external/local_xla/xla/stream_executor/cuda/cuda_fft.cc:477] Unable to register cuFFT factory: Attempting to register factory for plugin cuFFT when one has already been registered\n",
      "WARNING: All log messages before absl::InitializeLog() is called are written to STDERR\n",
      "E0000 00:00:1739404520.768862  194450 cuda_dnn.cc:8310] Unable to register cuDNN factory: Attempting to register factory for plugin cuDNN when one has already been registered\n",
      "E0000 00:00:1739404520.771054  194450 cuda_blas.cc:1418] Unable to register cuBLAS factory: Attempting to register factory for plugin cuBLAS when one has already been registered\n",
      "2025-02-13 00:55:20.779107: I tensorflow/core/platform/cpu_feature_guard.cc:210] This TensorFlow binary is optimized to use available CPU instructions in performance-critical operations.\n",
      "To enable the following instructions: AVX2 AVX512F AVX512_VNNI AVX512_BF16 AVX_VNNI FMA, in other operations, rebuild TensorFlow with the appropriate compiler flags.\n"
     ]
    }
   ],
   "execution_count": 1
  },
  {
   "metadata": {
    "ExecuteTime": {
     "end_time": "2025-02-12T23:55:21.919177Z",
     "start_time": "2025-02-12T23:55:21.891171Z"
    }
   },
   "cell_type": "code",
   "source": [
    "from keras import layers\n",
    "import numpy as np\n",
    "\n",
    "batch = [np.random.random((224, 224, 1)) for _ in range(100)]\n",
    "batch = np.array(batch)\n",
    "batch.shape"
   ],
   "id": "908564fe500d4156",
   "outputs": [
    {
     "data": {
      "text/plain": [
       "(100, 224, 224, 1)"
      ]
     },
     "execution_count": 2,
     "metadata": {},
     "output_type": "execute_result"
    }
   ],
   "execution_count": 2
  },
  {
   "metadata": {
    "ExecuteTime": {
     "end_time": "2025-02-12T23:55:22.243650Z",
     "start_time": "2025-02-12T23:55:21.952981Z"
    }
   },
   "cell_type": "code",
   "source": [
    "from models.common import conv_block\n",
    "\n",
    "b1 = conv_block(32, 3, 2, padding='valid', activation='relu')\n",
    "b2 = conv_block(32, 3, 1, padding='valid', activation='relu')\n",
    "b3 = conv_block(64, 3, 1, activation='relu')\n",
    "z = b1(batch)\n",
    "print(z.shape)\n",
    "z = b2(z)\n",
    "print(z.shape)\n",
    "z = b3(z)\n",
    "print(z.shape)"
   ],
   "id": "96ec7c1780273e34",
   "outputs": [
    {
     "name": "stdout",
     "output_type": "stream",
     "text": [
      "(100, 111, 111, 32)\n",
      "(100, 109, 109, 32)\n"
     ]
    },
    {
     "name": "stderr",
     "output_type": "stream",
     "text": [
      "2025-02-13 00:55:21.960974: E external/local_xla/xla/stream_executor/cuda/cuda_driver.cc:152] failed call to cuInit: INTERNAL: CUDA error: Failed call to cuInit: UNKNOWN ERROR (303)\n"
     ]
    },
    {
     "name": "stdout",
     "output_type": "stream",
     "text": [
      "(100, 109, 109, 64)\n"
     ]
    }
   ],
   "execution_count": 3
  },
  {
   "metadata": {
    "ExecuteTime": {
     "end_time": "2025-02-12T23:55:22.266694Z",
     "start_time": "2025-02-12T23:55:22.250271Z"
    }
   },
   "cell_type": "code",
   "source": [
    "b4 = layers.MaxPool2D(3, 2)\n",
    "z = b4(z)\n",
    "z.shape"
   ],
   "id": "847932d9340d4070",
   "outputs": [
    {
     "data": {
      "text/plain": [
       "TensorShape([100, 54, 54, 64])"
      ]
     },
     "execution_count": 4,
     "metadata": {},
     "output_type": "execute_result"
    }
   ],
   "execution_count": 4
  },
  {
   "metadata": {
    "ExecuteTime": {
     "end_time": "2025-02-12T23:55:22.476867Z",
     "start_time": "2025-02-12T23:55:22.294993Z"
    }
   },
   "cell_type": "code",
   "source": [
    "b5 = conv_block(80, 1, padding='valid', activation='relu')\n",
    "b6 = conv_block(192, 3, padding='valid', activation='relu')\n",
    "b7 = conv_block(288, 3, 2, padding='valid', activation='relu')\n",
    "z = b5(z)\n",
    "print(z.shape)\n",
    "z = b6(z)\n",
    "print(z.shape)\n",
    "z = b7(z)\n",
    "print(z.shape)"
   ],
   "id": "7f2bc9f3b043205",
   "outputs": [
    {
     "name": "stdout",
     "output_type": "stream",
     "text": [
      "(100, 54, 54, 80)\n",
      "(100, 52, 52, 192)\n",
      "(100, 25, 25, 288)\n"
     ]
    }
   ],
   "execution_count": 5
  },
  {
   "metadata": {
    "ExecuteTime": {
     "end_time": "2025-02-12T23:55:22.618863Z",
     "start_time": "2025-02-12T23:55:22.483076Z"
    }
   },
   "cell_type": "code",
   "source": [
    "from models.inception_v3 import InceptionV3A\n",
    "\n",
    "ia = InceptionV3A()\n",
    "z = ia(z)\n",
    "z.shape"
   ],
   "id": "83dc0ad2393be8b7",
   "outputs": [
    {
     "data": {
      "text/plain": [
       "TensorShape([100, 25, 25, 288])"
      ]
     },
     "execution_count": 6,
     "metadata": {},
     "output_type": "execute_result"
    }
   ],
   "execution_count": 6
  },
  {
   "metadata": {
    "ExecuteTime": {
     "end_time": "2025-02-12T23:55:22.758216Z",
     "start_time": "2025-02-12T23:55:22.627045Z"
    }
   },
   "cell_type": "code",
   "source": [
    "ia2 = InceptionV3A()\n",
    "z = ia2(z)\n",
    "z.shape"
   ],
   "id": "50ed49954298f41b",
   "outputs": [
    {
     "data": {
      "text/plain": [
       "TensorShape([100, 25, 25, 288])"
      ]
     },
     "execution_count": 7,
     "metadata": {},
     "output_type": "execute_result"
    }
   ],
   "execution_count": 7
  },
  {
   "metadata": {
    "ExecuteTime": {
     "end_time": "2025-02-12T23:55:22.848276Z",
     "start_time": "2025-02-12T23:55:22.765474Z"
    }
   },
   "cell_type": "code",
   "source": [
    "from keras import layers, models\n",
    "\n",
    "b3x3_1 = conv_block(384, 3, 2, padding=\"valid\", activation='relu')\n",
    "b3x3_2 = models.Sequential([\n",
    "    conv_block(64, 1, activation='relu'),\n",
    "    conv_block(96, 3, activation='relu'),\n",
    "    conv_block(96, 3, 2, padding='valid', activation='relu'),\n",
    "])\n",
    "pool = layers.MaxPool2D(3, 2)\n",
    "z = layers.Concatenate()([b3x3_1(z), b3x3_2(z), pool(z)])\n",
    "z.shape"
   ],
   "id": "be01894411aba42e",
   "outputs": [
    {
     "data": {
      "text/plain": [
       "TensorShape([100, 12, 12, 768])"
      ]
     },
     "execution_count": 8,
     "metadata": {},
     "output_type": "execute_result"
    }
   ],
   "execution_count": 8
  },
  {
   "metadata": {
    "ExecuteTime": {
     "end_time": "2025-02-12T23:55:23.557356Z",
     "start_time": "2025-02-12T23:55:22.855417Z"
    }
   },
   "cell_type": "code",
   "source": [
    "from models.inception_v3 import InceptionV3B\n",
    "\n",
    "for _ in range(5):\n",
    "    z = InceptionV3B()(z)\n",
    "z.shape"
   ],
   "id": "c1ae91a41268f198",
   "outputs": [
    {
     "data": {
      "text/plain": [
       "TensorShape([100, 12, 12, 768])"
      ]
     },
     "execution_count": 9,
     "metadata": {},
     "output_type": "execute_result"
    }
   ],
   "execution_count": 9
  },
  {
   "metadata": {
    "ExecuteTime": {
     "end_time": "2025-02-12T23:55:23.643059Z",
     "start_time": "2025-02-12T23:55:23.563703Z"
    }
   },
   "cell_type": "code",
   "source": [
    "from keras import layers, models\n",
    "\n",
    "b3x3_1 = models.Sequential([\n",
    "    conv_block(192, 1, activation='relu'),\n",
    "    conv_block(320, 3, 2, padding='valid', activation='relu'),\n",
    "])\n",
    "b3x3_2 = models.Sequential([\n",
    "    conv_block(192, 1, activation='relu'),\n",
    "    conv_block(192, (1, 7), activation='relu'),\n",
    "    conv_block(192, (7, 1), activation='relu'),\n",
    "    conv_block(192, 3, 2, padding='valid', activation='relu'),\n",
    "])\n",
    "pool = layers.MaxPool2D(3, 2)\n",
    "z = layers.Concatenate()([b3x3_1(z), b3x3_2(z), pool(z)])\n",
    "z.shape"
   ],
   "id": "8e7d5f4e9772090d",
   "outputs": [
    {
     "data": {
      "text/plain": [
       "TensorShape([100, 5, 5, 1280])"
      ]
     },
     "execution_count": 10,
     "metadata": {},
     "output_type": "execute_result"
    }
   ],
   "execution_count": 10
  },
  {
   "metadata": {
    "ExecuteTime": {
     "end_time": "2025-02-12T23:55:24.039742Z",
     "start_time": "2025-02-12T23:55:23.648530Z"
    }
   },
   "cell_type": "code",
   "source": [
    "from models.inception_v3 import InceptionV3C\n",
    "\n",
    "for _ in range(2):\n",
    "    z = InceptionV3C()(z)\n",
    "z.shape"
   ],
   "id": "b9834ca455d766c1",
   "outputs": [
    {
     "data": {
      "text/plain": [
       "TensorShape([100, 5, 5, 2048])"
      ]
     },
     "execution_count": 11,
     "metadata": {},
     "output_type": "execute_result"
    }
   ],
   "execution_count": 11
  },
  {
   "metadata": {
    "ExecuteTime": {
     "end_time": "2025-02-12T23:55:24.048616Z",
     "start_time": "2025-02-12T23:55:24.045346Z"
    }
   },
   "cell_type": "code",
   "source": [
    "z = layers.GlobalAvgPool2D(5)(z)\n",
    "z.shape"
   ],
   "id": "ca17a816f456282b",
   "outputs": [
    {
     "data": {
      "text/plain": [
       "TensorShape([100, 1, 1, 2048])"
      ]
     },
     "execution_count": 12,
     "metadata": {},
     "output_type": "execute_result"
    }
   ],
   "execution_count": 12
  },
  {
   "metadata": {
    "ExecuteTime": {
     "end_time": "2025-02-12T23:55:24.150404Z",
     "start_time": "2025-02-12T23:55:24.147326Z"
    }
   },
   "cell_type": "code",
   "source": [
    "z = layers.Dropout(0.2)(z)\n",
    "z.shape"
   ],
   "id": "f4970248aba79f01",
   "outputs": [
    {
     "data": {
      "text/plain": [
       "TensorShape([100, 1, 1, 2048])"
      ]
     },
     "execution_count": 13,
     "metadata": {},
     "output_type": "execute_result"
    }
   ],
   "execution_count": 13
  },
  {
   "metadata": {
    "ExecuteTime": {
     "end_time": "2025-02-12T23:55:24.247668Z",
     "start_time": "2025-02-12T23:55:24.245295Z"
    }
   },
   "cell_type": "code",
   "source": [
    "# z = layers.Flatten()(z)\n",
    "# z.shape"
   ],
   "id": "e1906ec5ece1d937",
   "outputs": [
    {
     "data": {
      "text/plain": [
       "TensorShape([100, 2048])"
      ]
     },
     "execution_count": 14,
     "metadata": {},
     "output_type": "execute_result"
    }
   ],
   "execution_count": 14
  },
  {
   "metadata": {
    "ExecuteTime": {
     "end_time": "2025-02-12T23:55:24.317027Z",
     "start_time": "2025-02-12T23:55:24.291757Z"
    }
   },
   "cell_type": "code",
   "source": [
    "z = layers.Dense(2, activation='softmax')(z)\n",
    "z.shape"
   ],
   "id": "88dc590994454f82",
   "outputs": [
    {
     "data": {
      "text/plain": [
       "TensorShape([100, 2])"
      ]
     },
     "execution_count": 15,
     "metadata": {},
     "output_type": "execute_result"
    }
   ],
   "execution_count": 15
  }
 ],
 "metadata": {
  "kernelspec": {
   "display_name": "Python 3",
   "language": "python",
   "name": "python3"
  },
  "language_info": {
   "codemirror_mode": {
    "name": "ipython",
    "version": 2
   },
   "file_extension": ".py",
   "mimetype": "text/x-python",
   "name": "python",
   "nbconvert_exporter": "python",
   "pygments_lexer": "ipython2",
   "version": "2.7.6"
  }
 },
 "nbformat": 4,
 "nbformat_minor": 5
}
