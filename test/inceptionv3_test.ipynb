{
 "cells": [
  {
   "metadata": {
    "ExecuteTime": {
     "end_time": "2025-02-13T16:36:17.113668Z",
     "start_time": "2025-02-13T16:36:17.111889Z"
    }
   },
   "cell_type": "code",
   "source": [
    "import os\n",
    "\n",
    "os.environ['TF_CPP_MIN_LOG_LEVEL'] = '3'"
   ],
   "id": "5754b4a8768dba97",
   "outputs": [],
   "execution_count": 1
  },
  {
   "metadata": {
    "ExecuteTime": {
     "end_time": "2025-02-13T16:36:18.451129Z",
     "start_time": "2025-02-13T16:36:17.156788Z"
    }
   },
   "cell_type": "code",
   "source": [
    "from keras import layers\n",
    "import numpy as np\n",
    "\n",
    "batch = [np.random.random((224, 224, 1)) for _ in range(100)]\n",
    "batch = np.array(batch)\n",
    "batch.shape"
   ],
   "id": "908564fe500d4156",
   "outputs": [
    {
     "name": "stderr",
     "output_type": "stream",
     "text": [
      "WARNING: All log messages before absl::InitializeLog() is called are written to STDERR\n",
      "E0000 00:00:1739464577.350611   63153 cuda_dnn.cc:8310] Unable to register cuDNN factory: Attempting to register factory for plugin cuDNN when one has already been registered\n",
      "E0000 00:00:1739464577.353017   63153 cuda_blas.cc:1418] Unable to register cuBLAS factory: Attempting to register factory for plugin cuBLAS when one has already been registered\n"
     ]
    },
    {
     "data": {
      "text/plain": [
       "(100, 224, 224, 1)"
      ]
     },
     "execution_count": 2,
     "metadata": {},
     "output_type": "execute_result"
    }
   ],
   "execution_count": 2
  },
  {
   "metadata": {
    "ExecuteTime": {
     "end_time": "2025-02-13T16:36:18.768043Z",
     "start_time": "2025-02-13T16:36:18.487733Z"
    }
   },
   "cell_type": "code",
   "source": [
    "from models.common import conv_block\n",
    "\n",
    "b1 = conv_block(32, 3, 2, padding='valid', activation='relu')\n",
    "b2 = conv_block(32, 3, 1, padding='valid', activation='relu')\n",
    "b3 = conv_block(64, 3, 1, activation='relu')\n",
    "z = b1(batch)\n",
    "print(z.shape)\n",
    "z = b2(z)\n",
    "print(z.shape)\n",
    "z = b3(z)\n",
    "print(z.shape)"
   ],
   "id": "96ec7c1780273e34",
   "outputs": [
    {
     "name": "stdout",
     "output_type": "stream",
     "text": [
      "(100, 111, 111, 32)\n",
      "(100, 109, 109, 32)\n",
      "(100, 109, 109, 64)\n"
     ]
    }
   ],
   "execution_count": 3
  },
  {
   "metadata": {
    "ExecuteTime": {
     "end_time": "2025-02-13T16:36:18.790326Z",
     "start_time": "2025-02-13T16:36:18.775574Z"
    }
   },
   "cell_type": "code",
   "source": [
    "b4 = layers.MaxPool2D(3, 2)\n",
    "z = b4(z)\n",
    "z.shape"
   ],
   "id": "847932d9340d4070",
   "outputs": [
    {
     "data": {
      "text/plain": [
       "TensorShape([100, 54, 54, 64])"
      ]
     },
     "execution_count": 4,
     "metadata": {},
     "output_type": "execute_result"
    }
   ],
   "execution_count": 4
  },
  {
   "metadata": {
    "ExecuteTime": {
     "end_time": "2025-02-13T16:36:18.999490Z",
     "start_time": "2025-02-13T16:36:18.820941Z"
    }
   },
   "cell_type": "code",
   "source": [
    "b5 = conv_block(80, 1, padding='valid', activation='relu')\n",
    "b6 = conv_block(192, 3, padding='valid', activation='relu')\n",
    "b7 = conv_block(288, 3, 2, padding='valid', activation='relu')\n",
    "z = b5(z)\n",
    "print(z.shape)\n",
    "z = b6(z)\n",
    "print(z.shape)\n",
    "z = b7(z)\n",
    "print(z.shape)"
   ],
   "id": "7f2bc9f3b043205",
   "outputs": [
    {
     "name": "stdout",
     "output_type": "stream",
     "text": [
      "(100, 54, 54, 80)\n",
      "(100, 52, 52, 192)\n",
      "(100, 25, 25, 288)\n"
     ]
    }
   ],
   "execution_count": 5
  },
  {
   "metadata": {
    "ExecuteTime": {
     "end_time": "2025-02-13T16:36:19.206809Z",
     "start_time": "2025-02-13T16:36:19.006512Z"
    }
   },
   "cell_type": "code",
   "source": [
    "from models.inception_v3 import InceptionV3A\n",
    "\n",
    "ia = InceptionV3A()\n",
    "z = ia(z)\n",
    "z.shape"
   ],
   "id": "83dc0ad2393be8b7",
   "outputs": [
    {
     "data": {
      "text/plain": [
       "TensorShape([100, 25, 25, 288])"
      ]
     },
     "execution_count": 6,
     "metadata": {},
     "output_type": "execute_result"
    }
   ],
   "execution_count": 6
  },
  {
   "metadata": {
    "ExecuteTime": {
     "end_time": "2025-02-13T16:36:19.390492Z",
     "start_time": "2025-02-13T16:36:19.213604Z"
    }
   },
   "cell_type": "code",
   "source": [
    "ia2 = InceptionV3A()\n",
    "z = ia2(z)\n",
    "z.shape"
   ],
   "id": "50ed49954298f41b",
   "outputs": [
    {
     "data": {
      "text/plain": [
       "TensorShape([100, 25, 25, 288])"
      ]
     },
     "execution_count": 7,
     "metadata": {},
     "output_type": "execute_result"
    }
   ],
   "execution_count": 7
  },
  {
   "metadata": {
    "ExecuteTime": {
     "end_time": "2025-02-13T16:36:19.474067Z",
     "start_time": "2025-02-13T16:36:19.398136Z"
    }
   },
   "cell_type": "code",
   "source": [
    "from keras import layers, models\n",
    "\n",
    "b3x3_1 = conv_block(384, 3, 2, padding=\"valid\", activation='relu')\n",
    "b3x3_2 = models.Sequential([\n",
    "    conv_block(64, 1, activation='relu'),\n",
    "    conv_block(96, 3, activation='relu'),\n",
    "    conv_block(96, 3, 2, padding='valid', activation='relu'),\n",
    "])\n",
    "pool = layers.MaxPool2D(3, 2)\n",
    "z = layers.Concatenate()([b3x3_1(z), b3x3_2(z), pool(z)])\n",
    "z.shape"
   ],
   "id": "be01894411aba42e",
   "outputs": [
    {
     "data": {
      "text/plain": [
       "TensorShape([100, 12, 12, 768])"
      ]
     },
     "execution_count": 8,
     "metadata": {},
     "output_type": "execute_result"
    }
   ],
   "execution_count": 8
  },
  {
   "metadata": {
    "ExecuteTime": {
     "end_time": "2025-02-13T16:36:20.561235Z",
     "start_time": "2025-02-13T16:36:19.480314Z"
    }
   },
   "cell_type": "code",
   "source": [
    "from models.inception_v3 import InceptionV3B\n",
    "\n",
    "for _ in range(5):\n",
    "    z = InceptionV3B()(z)\n",
    "z.shape"
   ],
   "id": "c1ae91a41268f198",
   "outputs": [
    {
     "data": {
      "text/plain": [
       "TensorShape([100, 12, 12, 768])"
      ]
     },
     "execution_count": 9,
     "metadata": {},
     "output_type": "execute_result"
    }
   ],
   "execution_count": 9
  },
  {
   "metadata": {
    "ExecuteTime": {
     "end_time": "2025-02-13T16:36:20.658469Z",
     "start_time": "2025-02-13T16:36:20.568079Z"
    }
   },
   "cell_type": "code",
   "source": [
    "from keras import layers, models\n",
    "\n",
    "b3x3_1 = models.Sequential([\n",
    "    conv_block(192, 1, activation='relu'),\n",
    "    conv_block(320, 3, 2, padding='valid', activation='relu'),\n",
    "])\n",
    "b3x3_2 = models.Sequential([\n",
    "    conv_block(192, 1, activation='relu'),\n",
    "    conv_block(192, (1, 7), activation='relu'),\n",
    "    conv_block(192, (7, 1), activation='relu'),\n",
    "    conv_block(192, 3, 2, padding='valid', activation='relu'),\n",
    "])\n",
    "pool = layers.MaxPool2D(3, 2)\n",
    "z = layers.Concatenate()([b3x3_1(z), b3x3_2(z), pool(z)])\n",
    "z.shape"
   ],
   "id": "8e7d5f4e9772090d",
   "outputs": [
    {
     "data": {
      "text/plain": [
       "TensorShape([100, 5, 5, 1280])"
      ]
     },
     "execution_count": 10,
     "metadata": {},
     "output_type": "execute_result"
    }
   ],
   "execution_count": 10
  },
  {
   "metadata": {
    "ExecuteTime": {
     "end_time": "2025-02-13T16:36:21.109657Z",
     "start_time": "2025-02-13T16:36:20.829838Z"
    }
   },
   "cell_type": "code",
   "source": [
    "from models.inception_v3 import InceptionV3C\n",
    "\n",
    "for _ in range(2):\n",
    "    z = InceptionV3C()(z)\n",
    "z.shape"
   ],
   "id": "b9834ca455d766c1",
   "outputs": [
    {
     "data": {
      "text/plain": [
       "TensorShape([100, 5, 5, 2048])"
      ]
     },
     "execution_count": 11,
     "metadata": {},
     "output_type": "execute_result"
    }
   ],
   "execution_count": 11
  },
  {
   "metadata": {
    "ExecuteTime": {
     "end_time": "2025-02-13T16:36:21.119463Z",
     "start_time": "2025-02-13T16:36:21.116044Z"
    }
   },
   "cell_type": "code",
   "source": [
    "z = layers.AvgPool2D(5)(z)\n",
    "z.shape"
   ],
   "id": "ca17a816f456282b",
   "outputs": [
    {
     "data": {
      "text/plain": [
       "TensorShape([100, 1, 1, 2048])"
      ]
     },
     "execution_count": 12,
     "metadata": {},
     "output_type": "execute_result"
    }
   ],
   "execution_count": 12
  },
  {
   "metadata": {
    "ExecuteTime": {
     "end_time": "2025-02-13T16:36:21.162406Z",
     "start_time": "2025-02-13T16:36:21.158668Z"
    }
   },
   "cell_type": "code",
   "source": [
    "z = layers.Dropout(0.2)(z)\n",
    "z.shape"
   ],
   "id": "f4970248aba79f01",
   "outputs": [
    {
     "data": {
      "text/plain": [
       "TensorShape([100, 1, 1, 2048])"
      ]
     },
     "execution_count": 13,
     "metadata": {},
     "output_type": "execute_result"
    }
   ],
   "execution_count": 13
  },
  {
   "metadata": {
    "ExecuteTime": {
     "end_time": "2025-02-13T16:36:21.207247Z",
     "start_time": "2025-02-13T16:36:21.204646Z"
    }
   },
   "cell_type": "code",
   "source": [
    "z = layers.Flatten()(z)\n",
    "z.shape"
   ],
   "id": "e1906ec5ece1d937",
   "outputs": [
    {
     "data": {
      "text/plain": [
       "TensorShape([100, 2048])"
      ]
     },
     "execution_count": 14,
     "metadata": {},
     "output_type": "execute_result"
    }
   ],
   "execution_count": 14
  },
  {
   "metadata": {
    "ExecuteTime": {
     "end_time": "2025-02-13T16:36:21.277Z",
     "start_time": "2025-02-13T16:36:21.250914Z"
    }
   },
   "cell_type": "code",
   "source": [
    "z = layers.Dense(1024, activation='linear')(z)\n",
    "z.shape"
   ],
   "id": "67a54be0345ed244",
   "outputs": [
    {
     "data": {
      "text/plain": [
       "TensorShape([100, 1024])"
      ]
     },
     "execution_count": 15,
     "metadata": {},
     "output_type": "execute_result"
    }
   ],
   "execution_count": 15
  },
  {
   "metadata": {
    "ExecuteTime": {
     "end_time": "2025-02-13T16:36:21.299170Z",
     "start_time": "2025-02-13T16:36:21.296423Z"
    }
   },
   "cell_type": "code",
   "source": [
    "z = layers.Dropout(0.5)(z)\n",
    "z.shape"
   ],
   "id": "77c42b2a22c553d9",
   "outputs": [
    {
     "data": {
      "text/plain": [
       "TensorShape([100, 1024])"
      ]
     },
     "execution_count": 16,
     "metadata": {},
     "output_type": "execute_result"
    }
   ],
   "execution_count": 16
  },
  {
   "metadata": {
    "ExecuteTime": {
     "end_time": "2025-02-13T16:36:21.348164Z",
     "start_time": "2025-02-13T16:36:21.341056Z"
    }
   },
   "cell_type": "code",
   "source": [
    "z = layers.Dense(2, activation='softmax')(z)\n",
    "z.shape"
   ],
   "id": "88dc590994454f82",
   "outputs": [
    {
     "data": {
      "text/plain": [
       "TensorShape([100, 2])"
      ]
     },
     "execution_count": 17,
     "metadata": {},
     "output_type": "execute_result"
    }
   ],
   "execution_count": 17
  }
 ],
 "metadata": {
  "kernelspec": {
   "display_name": "Python 3",
   "language": "python",
   "name": "python3"
  },
  "language_info": {
   "codemirror_mode": {
    "name": "ipython",
    "version": 2
   },
   "file_extension": ".py",
   "mimetype": "text/x-python",
   "name": "python",
   "nbconvert_exporter": "python",
   "pygments_lexer": "ipython2",
   "version": "2.7.6"
  }
 },
 "nbformat": 4,
 "nbformat_minor": 5
}
