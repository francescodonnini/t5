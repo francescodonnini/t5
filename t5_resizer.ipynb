{
 "cells": [
  {
   "cell_type": "code",
   "id": "initial_id",
   "metadata": {
    "collapsed": true,
    "ExecuteTime": {
     "end_time": "2025-01-22T17:28:54.813894Z",
     "start_time": "2025-01-22T17:28:54.810859Z"
    }
   },
   "source": [
    "try:\n",
    "    from google.colab import drive\n",
    "    drive.mount('/content/drive')\n",
    "    data_path = '/content/drive/MyDrive/chest_xray/'\n",
    "except:\n",
    "    data_path = 'data/chest_xray'"
   ],
   "outputs": [],
   "execution_count": 2
  },
  {
   "metadata": {
    "ExecuteTime": {
     "end_time": "2025-01-22T17:29:00.280468Z",
     "start_time": "2025-01-22T17:28:57.119489Z"
    }
   },
   "cell_type": "code",
   "source": [
    "from utils.load_data import load_data\n",
    "\n",
    "(x, y) = load_data(data_path)"
   ],
   "id": "b263096063cc0cc",
   "outputs": [],
   "execution_count": 3
  },
  {
   "metadata": {
    "ExecuteTime": {
     "end_time": "2025-01-22T17:29:05.252752Z",
     "start_time": "2025-01-22T17:29:05.247916Z"
    }
   },
   "cell_type": "code",
   "source": "",
   "id": "ac799d5d56dd89e",
   "outputs": [
    {
     "data": {
      "text/plain": [
       "array([[155, 149, 153, ...,  46,  43,  43],\n",
       "       [151, 151, 156, ...,  46,  43,  43],\n",
       "       [146, 149, 153, ...,  43,  42,  42],\n",
       "       ...,\n",
       "       [  0,   0,   0, ...,   0,   0,   0],\n",
       "       [  0,   0,   0, ...,   0,   0,   0],\n",
       "       [  0,   0,   0, ...,   0,   0,   0]], dtype=uint8)"
      ]
     },
     "execution_count": 4,
     "metadata": {},
     "output_type": "execute_result"
    }
   ],
   "execution_count": 4
  }
 ],
 "metadata": {
  "kernelspec": {
   "display_name": "Python 3",
   "language": "python",
   "name": "python3"
  },
  "language_info": {
   "codemirror_mode": {
    "name": "ipython",
    "version": 2
   },
   "file_extension": ".py",
   "mimetype": "text/x-python",
   "name": "python",
   "nbconvert_exporter": "python",
   "pygments_lexer": "ipython2",
   "version": "2.7.6"
  }
 },
 "nbformat": 4,
 "nbformat_minor": 5
}
