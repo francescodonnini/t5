{
 "cells": [
  {
   "cell_type": "code",
   "id": "initial_id",
   "metadata": {
    "collapsed": true,
    "ExecuteTime": {
     "end_time": "2025-01-21T21:57:01.952234Z",
     "start_time": "2025-01-21T21:57:01.947201Z"
    }
   },
   "source": [
    "try:\n",
    "    from google.colab import drive\n",
    "    drive.mount('/content/drive')\n",
    "    data_path = '/content/drive/MyDrive/chest_xray/'\n",
    "except:\n",
    "    data_path = 'data/chest_xray'"
   ],
   "outputs": [],
   "execution_count": 1
  },
  {
   "metadata": {
    "ExecuteTime": {
     "end_time": "2025-01-21T21:57:25.540745Z",
     "start_time": "2025-01-21T21:57:18.005882Z"
    }
   },
   "cell_type": "code",
   "source": [
    "from utils.load_data import load_data\n",
    "\n",
    "dataset = load_data(data_path)"
   ],
   "id": "b263096063cc0cc",
   "outputs": [],
   "execution_count": 2
  }
 ],
 "metadata": {
  "kernelspec": {
   "display_name": "Python 3",
   "language": "python",
   "name": "python3"
  },
  "language_info": {
   "codemirror_mode": {
    "name": "ipython",
    "version": 2
   },
   "file_extension": ".py",
   "mimetype": "text/x-python",
   "name": "python",
   "nbconvert_exporter": "python",
   "pygments_lexer": "ipython2",
   "version": "2.7.6"
  }
 },
 "nbformat": 4,
 "nbformat_minor": 5
}
