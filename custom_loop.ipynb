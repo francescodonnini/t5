{
 "cells": [
  {
   "metadata": {
    "ExecuteTime": {
     "end_time": "2025-02-23T17:20:59.833818Z",
     "start_time": "2025-02-23T17:20:59.832018Z"
    }
   },
   "cell_type": "code",
   "source": [
    "import numpy as np\n",
    "\n",
    "\n",
    "def preprocessing(x, y):\n",
    "    shf = list(range(len(x)))\n",
    "    np.random.shuffle(shf)\n",
    "    x_mix = []\n",
    "    y_mix = []\n",
    "    for i in range(len(x)):\n",
    "        a = (x[i], y[i])\n",
    "        b = (x[shf[i]], y[shf[i]])\n",
    "        xc, yc = cutmix(a, b)\n",
    "        x_mix.append(xc)\n",
    "        y_mix.append(yc)\n",
    "    return np.asarray(x_mix), np.asarray(y_mix)"
   ],
   "id": "be075d089a24f4c3",
   "outputs": [],
   "execution_count": 4
  }
 ],
 "metadata": {
  "kernelspec": {
   "display_name": "Python 3",
   "language": "python",
   "name": "python3"
  },
  "language_info": {
   "codemirror_mode": {
    "name": "ipython",
    "version": 2
   },
   "file_extension": ".py",
   "mimetype": "text/x-python",
   "name": "python",
   "nbconvert_exporter": "python",
   "pygments_lexer": "ipython2",
   "version": "2.7.6"
  }
 },
 "nbformat": 4,
 "nbformat_minor": 5
}
