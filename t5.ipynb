{
 "cells": [
  {
   "cell_type": "code",
   "id": "initial_id",
   "metadata": {
    "collapsed": true,
    "ExecuteTime": {
     "end_time": "2025-02-23T21:28:58.621177Z",
     "start_time": "2025-02-23T21:28:58.590577Z"
    }
   },
   "source": [
    "from core.data import from_dir, random_resample\n",
    "\n",
    "data_path = 'data/chest_xray/train'"
   ],
   "outputs": [],
   "execution_count": 1
  },
  {
   "metadata": {
    "ExecuteTime": {
     "end_time": "2025-02-23T21:28:58.641119Z",
     "start_time": "2025-02-23T21:28:58.639335Z"
    }
   },
   "cell_type": "code",
   "source": "resize = (96, 96)",
   "id": "228750735f1a474f",
   "outputs": [],
   "execution_count": 2
  },
  {
   "metadata": {
    "ExecuteTime": {
     "end_time": "2025-02-23T21:29:00.518890Z",
     "start_time": "2025-02-23T21:28:58.683228Z"
    }
   },
   "cell_type": "code",
   "source": [
    "training_selector = lambda s: s.startswith('chest_xray/train/') and s.endswith('.jpeg')\n",
    "(x, y) = from_dir(data_path, resize=resize, resample=random_resample)"
   ],
   "id": "83913e74c64ac90",
   "outputs": [],
   "execution_count": 3
  },
  {
   "metadata": {
    "ExecuteTime": {
     "end_time": "2025-02-23T21:29:00.531879Z",
     "start_time": "2025-02-23T21:29:00.524823Z"
    }
   },
   "cell_type": "code",
   "source": [
    "NEG_IDX = 0\n",
    "POS_IDX = 1\n",
    "TOTAL   = len(y)\n",
    "N       = len(list(filter(lambda j: j == 0, y)))\n",
    "P       = len(list(filter(lambda j: j == 1, y)))\n",
    "print(f'#Positives = {P} ({P/TOTAL*100:.2f}%)')\n",
    "print(f'#Negatives = {N} ({N/TOTAL*100:.2f}%)')"
   ],
   "id": "ca55561bf0b533f7",
   "outputs": [
    {
     "name": "stdout",
     "output_type": "stream",
     "text": [
      "#Positives = 3883 (74.22%)\n",
      "#Negatives = 1349 (25.78%)\n"
     ]
    }
   ],
   "execution_count": 4
  },
  {
   "metadata": {
    "ExecuteTime": {
     "end_time": "2025-02-23T21:29:00.768888Z",
     "start_time": "2025-02-23T21:29:00.567373Z"
    }
   },
   "cell_type": "code",
   "source": [
    "from sklearn.model_selection import train_test_split\n",
    "\n",
    "X_train, X_val, Y_train, Y_val = train_test_split(x, y, test_size=0.2, random_state=42)\n",
    "total_train = len(Y_train)\n",
    "N_train     = len(list(filter(lambda j: j == 0, Y_train)))\n",
    "P_train     = len(list(filter(lambda j: j == 1, Y_train)))\n",
    "print(f'#Positives (train) = {P_train} ({P_train/total_train*100:.2f}%)')\n",
    "print(f'#Negatives (train) = {N_train} ({N_train/total_train*100:.2f}%)')\n",
    "total_val   = len(Y_val)\n",
    "N_val       = len(list(filter(lambda j: j == 0, Y_val)))\n",
    "P_val       = len(list(filter(lambda j: j == 1, Y_val)))\n",
    "print(f'#Positives (val)   = {P_val} ({P_val/total_val*100:.2f}%)')\n",
    "print(f'#Negatives (val)   = {N_val} ({N_val/total_val*100:.2f}%)')"
   ],
   "id": "48387a255489999",
   "outputs": [
    {
     "name": "stdout",
     "output_type": "stream",
     "text": [
      "#Positives (train) = 3095 (73.95%)\n",
      "#Negatives (train) = 1090 (26.05%)\n",
      "#Positives (val)   = 788 (75.26%)\n",
      "#Negatives (val)   = 259 (24.74%)\n"
     ]
    }
   ],
   "execution_count": 5
  },
  {
   "metadata": {
    "ExecuteTime": {
     "end_time": "2025-02-23T22:00:05.393826Z",
     "start_time": "2025-02-23T22:00:05.388058Z"
    }
   },
   "cell_type": "code",
   "source": [
    "from core import preprocessing\n",
    "import numpy as np\n",
    "\n",
    "def apply_cutmix(x, y):\n",
    "    shf = list(range(len(x)))\n",
    "    np.random.shuffle(shf)\n",
    "    x_mix = []\n",
    "    y_mix = []\n",
    "    for i in range(len(x)):\n",
    "        a = (x[i], y[i])\n",
    "        b = (x[shf[i]], y[shf[i]])\n",
    "        xc, yc = preprocessing.cutmix(a, b)\n",
    "        x_mix.append(xc)\n",
    "        y_mix.append(yc)\n",
    "    return np.asarray(x_mix), np.asarray(y_mix)"
   ],
   "id": "a492e54789ca4ecb",
   "outputs": [],
   "execution_count": 9
  },
  {
   "metadata": {
    "ExecuteTime": {
     "end_time": "2025-02-23T21:29:02.253721Z",
     "start_time": "2025-02-23T21:29:00.774558Z"
    }
   },
   "cell_type": "code",
   "source": [
    "from keras import callbacks as cb, losses, metrics as metr, optimizers\n",
    "from core import create_model, preprocessing\n",
    "\n",
    "callbacks = [cb.EarlyStopping(patience=5, verbose=1)]\n",
    "model = create_model('resnet-18', resize)\n",
    "metrics = [metr.BinaryCrossentropy(name='loss'), metr.BinaryCrossentropy('val_loss'), metr.Recall(name='recall'), metr.Recall(name='val_recall')]\n",
    "optimizer = optimizers.Adam()\n",
    "loss = losses.BinaryCrossentropy()"
   ],
   "id": "94e5961a756d9bd8",
   "outputs": [
    {
     "name": "stderr",
     "output_type": "stream",
     "text": [
      "2025-02-23 22:29:00.889498: I tensorflow/core/util/port.cc:153] oneDNN custom operations are on. You may see slightly different numerical results due to floating-point round-off errors from different computation orders. To turn them off, set the environment variable `TF_ENABLE_ONEDNN_OPTS=0`.\n",
      "2025-02-23 22:29:00.889813: I external/local_xla/xla/tsl/cuda/cudart_stub.cc:32] Could not find cuda drivers on your machine, GPU will not be used.\n",
      "2025-02-23 22:29:00.891402: I external/local_xla/xla/tsl/cuda/cudart_stub.cc:32] Could not find cuda drivers on your machine, GPU will not be used.\n",
      "2025-02-23 22:29:00.894770: E external/local_xla/xla/stream_executor/cuda/cuda_fft.cc:477] Unable to register cuFFT factory: Attempting to register factory for plugin cuFFT when one has already been registered\n",
      "WARNING: All log messages before absl::InitializeLog() is called are written to STDERR\n",
      "E0000 00:00:1740346140.900097  123090 cuda_dnn.cc:8310] Unable to register cuDNN factory: Attempting to register factory for plugin cuDNN when one has already been registered\n",
      "E0000 00:00:1740346140.901694  123090 cuda_blas.cc:1418] Unable to register cuBLAS factory: Attempting to register factory for plugin cuBLAS when one has already been registered\n",
      "2025-02-23 22:29:00.907921: I tensorflow/core/platform/cpu_feature_guard.cc:210] This TensorFlow binary is optimized to use available CPU instructions in performance-critical operations.\n",
      "To enable the following instructions: AVX2 AVX512F AVX512_VNNI AVX512_BF16 AVX_VNNI FMA, in other operations, rebuild TensorFlow with the appropriate compiler flags.\n",
      "2025-02-23 22:29:01.700946: E external/local_xla/xla/stream_executor/cuda/cuda_driver.cc:152] failed call to cuInit: INTERNAL: CUDA error: Failed call to cuInit: UNKNOWN ERROR (303)\n"
     ]
    }
   ],
   "execution_count": 6
  },
  {
   "metadata": {
    "ExecuteTime": {
     "end_time": "2025-02-23T22:01:30.859849Z",
     "start_time": "2025-02-23T22:00:40.322286Z"
    }
   },
   "cell_type": "code",
   "source": [
    "from core import loop\n",
    "\n",
    "\n",
    "history = loop.training_loop(\n",
    "    X_train, Y_train, X_val, Y_val,\n",
    "    model,\n",
    "    4,\n",
    "    64,\n",
    "    metrics,\n",
    "    optimizer,\n",
    "    callbacks,\n",
    "    loss,\n",
    "    apply_cutmix)\n",
    "history"
   ],
   "id": "62ab872350bc6a04",
   "outputs": [
    {
     "name": "stdout",
     "output_type": "stream",
     "text": [
      "Epoch 1/4\n",
      "\u001B[1m 1/64\u001B[0m \u001B[37m━━━━━━━━━━━━━━━━━━━━\u001B[0m \u001B[1m1:02\u001B[0m 987ms/stepTraining loss (for one batch) at step 0: 0.6816\n",
      "Seen so far: 64 samples\n",
      "\u001B[1m66/64\u001B[0m \u001B[32m━━━━━━━━━━━━━━━━━━━━\u001B[0m\u001B[37m\u001B[0m \u001B[1m0s\u001B[0m 190ms/steploss: 0.37567073106765747,recall: 0.830373227596283\n",
      "val_loss: 0.14289772510528564,val_recall: 0.9911167621612549\n",
      "\u001B[1m64/64\u001B[0m \u001B[32m━━━━━━━━━━━━━━━━━━━━\u001B[0m\u001B[37m\u001B[0m \u001B[1m14s\u001B[0m 206ms/step - loss: 0.3757 - val_loss: 0.1429\n",
      "Epoch 2/4\n",
      "\u001B[1m 1/64\u001B[0m \u001B[37m━━━━━━━━━━━━━━━━━━━━\u001B[0m \u001B[1m11s\u001B[0m 177ms/stepTraining loss (for one batch) at step 0: 0.3015\n",
      "Seen so far: 64 samples\n",
      "\u001B[1m66/64\u001B[0m \u001B[32m━━━━━━━━━━━━━━━━━━━━\u001B[0m\u001B[37m\u001B[0m \u001B[1m0s\u001B[0m 180ms/steploss: 0.3249145448207855,recall: 0.822073221206665\n",
      "val_loss: 0.23028160631656647,val_recall: 0.9568527936935425\n",
      "\u001B[1m64/64\u001B[0m \u001B[32m━━━━━━━━━━━━━━━━━━━━\u001B[0m\u001B[37m\u001B[0m \u001B[1m12s\u001B[0m 194ms/step - loss: 0.3249 - val_loss: 0.2303\n",
      "Epoch 3/4\n",
      "\u001B[1m 1/64\u001B[0m \u001B[37m━━━━━━━━━━━━━━━━━━━━\u001B[0m \u001B[1m11s\u001B[0m 190ms/stepTraining loss (for one batch) at step 0: 0.3632\n",
      "Seen so far: 64 samples\n",
      "\u001B[1m66/64\u001B[0m \u001B[32m━━━━━━━━━━━━━━━━━━━━\u001B[0m\u001B[37m\u001B[0m \u001B[1m0s\u001B[0m 175ms/steploss: 0.32040974497795105,recall: 0.8268387317657471\n",
      "val_loss: 0.16413483023643494,val_recall: 0.9949238300323486\n",
      "\u001B[1m64/64\u001B[0m \u001B[32m━━━━━━━━━━━━━━━━━━━━\u001B[0m\u001B[37m\u001B[0m \u001B[1m12s\u001B[0m 189ms/step - loss: 0.3204 - val_loss: 0.1641\n",
      "Epoch 4/4\n",
      "\u001B[1m 1/64\u001B[0m \u001B[37m━━━━━━━━━━━━━━━━━━━━\u001B[0m \u001B[1m11s\u001B[0m 177ms/stepTraining loss (for one batch) at step 0: 0.2965\n",
      "Seen so far: 64 samples\n",
      "\u001B[1m66/64\u001B[0m \u001B[32m━━━━━━━━━━━━━━━━━━━━\u001B[0m\u001B[37m\u001B[0m \u001B[1m0s\u001B[0m 176ms/steploss: 0.31487131118774414,recall: 0.81825190782547\n",
      "val_loss: 0.2566635012626648,val_recall: 0.9987309575080872\n",
      "\u001B[1m64/64\u001B[0m \u001B[32m━━━━━━━━━━━━━━━━━━━━\u001B[0m\u001B[37m\u001B[0m \u001B[1m12s\u001B[0m 189ms/step - loss: 0.3149 - val_loss: 0.2567\n"
     ]
    },
    {
     "data": {
      "text/plain": [
       "<keras.src.callbacks.history.History at 0x7f33bfd551f0>"
      ]
     },
     "execution_count": 10,
     "metadata": {},
     "output_type": "execute_result"
    }
   ],
   "execution_count": 10
  },
  {
   "metadata": {},
   "cell_type": "code",
   "outputs": [],
   "execution_count": null,
   "source": "",
   "id": "6c47f5c5d988a3e9"
  }
 ],
 "metadata": {
  "kernelspec": {
   "display_name": "Python 3",
   "language": "python",
   "name": "python3"
  },
  "language_info": {
   "codemirror_mode": {
    "name": "ipython",
    "version": 2
   },
   "file_extension": ".py",
   "mimetype": "text/x-python",
   "name": "python",
   "nbconvert_exporter": "python",
   "pygments_lexer": "ipython2",
   "version": "2.7.6"
  }
 },
 "nbformat": 4,
 "nbformat_minor": 5
}
