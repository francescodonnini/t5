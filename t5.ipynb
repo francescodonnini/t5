{
  "cells": [
    {
      "cell_type": "code",
      "source": [
        "from google.colab import drive\n",
        "drive.mount('/content/drive')\n",
        "data_path = '/content/drive/MyDrive/chest_xray/'"
      ],
      "metadata": {
        "id": "kREINtnbvDEo",
        "outputId": "9a4c5d97-b2fe-4067-9392-b7fff6a2f9a7",
        "colab": {
          "base_uri": "https://localhost:8080/"
        }
      },
      "id": "kREINtnbvDEo",
      "execution_count": 5,
      "outputs": [
        {
          "output_type": "stream",
          "name": "stdout",
          "text": [
            "Drive already mounted at /content/drive; to attempt to forcibly remount, call drive.mount(\"/content/drive\", force_remount=True).\n"
          ]
        }
      ]
    },
    {
      "metadata": {
        "id": "1fde9c4310d479cd"
      },
      "cell_type": "markdown",
      "source": [
        "Sto considerando di usare i seguenti modelli di ML:\n",
        "1. ResNet.\n",
        "2. GoogLeNet.\n",
        "3. AlexNet."
      ],
      "id": "1fde9c4310d479cd"
    },
    {
      "metadata": {
        "ExecuteTime": {
          "end_time": "2025-01-21T11:53:06.395232Z",
          "start_time": "2025-01-21T11:53:06.358296Z"
        },
        "id": "2f4f765f8bac3d3",
        "outputId": "a61bf04e-5b0e-4d7e-cf07-9dc539b30bb8",
        "colab": {
          "base_uri": "https://localhost:8080/"
        }
      },
      "cell_type": "code",
      "source": [
        "import os\n",
        "import pathlib\n",
        "\n",
        "data_dir = pathlib.Path(os.path.join(data_path, 'train'))\n",
        "total = len(list(data_dir.glob('**/*.jpeg')))\n",
        "bacteria = len(list(data_dir.glob('**/BACTERIA-*.jpeg')))\n",
        "virus = len(list(data_dir.glob('**/VIRUS-*.jpeg')))\n",
        "P = len(list(data_dir.glob('**/NORMAL-*.jpeg')))\n",
        "N = total - P\n",
        "print(f'#training set = {total}')\n",
        "print(f'#positives = {P}')\n",
        "print(f'#negatives = {N} (bacteria = {bacteria}, virus = {virus})')"
      ],
      "id": "2f4f765f8bac3d3",
      "outputs": [
        {
          "output_type": "stream",
          "name": "stdout",
          "text": [
            "#training set = 5232\n",
            "#positives = 1349\n",
            "#negatives = 3883 (bacteria = 2538, virus = 1345)\n"
          ]
        }
      ],
      "execution_count": 6
    },
    {
      "cell_type": "code",
      "source": [],
      "metadata": {
        "id": "hLVPuXqbvaUv"
      },
      "id": "hLVPuXqbvaUv",
      "execution_count": null,
      "outputs": []
    },
    {
      "metadata": {
        "id": "8543b0ed6566af0f"
      },
      "cell_type": "markdown",
      "source": [
        "Le immagini nel training set sono 5232 di cui: 1349 appartenenti alla classe NORMAL mentre 3883 alla classe PNEUMONIA.\n",
        "Sto considerando diverse strategie per aumentare la dimensione del dataset:\n",
        "1. Trasformazioni geometriche: specchiare, ruotare, tagliare, allungare.\n",
        "   a. Specchiare e ruotare non mi sembrano che possano essere molto utili per questa tipologia di problema. Similmente anche\n",
        "      il ritagliare l'immagine potrebbe rimuovere porzioni di immagini che potrebbero rivelarsi fondamentali per individuare o meno\n",
        "      la polmonite.\n",
        "   b. Tag\n",
        "2. Modificare la luminosità."
      ],
      "id": "8543b0ed6566af0f"
    },
    {
      "metadata": {
        "ExecuteTime": {
          "end_time": "2025-01-21T11:53:11.328480Z",
          "start_time": "2025-01-21T11:53:09.942215Z"
        },
        "id": "554e1f9ec3f46dcf"
      },
      "cell_type": "code",
      "source": [
        "from PIL import Image\n",
        "images = list(map(lambda i: Image.open(str(i)), data_dir.glob('**/*.jpeg')))"
      ],
      "id": "554e1f9ec3f46dcf",
      "outputs": [],
      "execution_count": null
    },
    {
      "metadata": {
        "id": "3748e3cdf41bd58b"
      },
      "cell_type": "markdown",
      "source": [
        "È necessario ridimensionare le immagini per:\n",
        "- Utilizzare meno risorse computazionali.\n",
        "- Velocizzare sia addestramento che inferenza.\n",
        "Al momento sto considerando le diverse strategie per il ridimensionamento delle immagini:\n",
        "1. Ridimensionare tutte le immagini a 133x133 dove 133 è l'altezza minima tra tutte le immagini.\n",
        "2. Ridimensionare tutte le immagini a 290x290 dove 290 è l'altezza media delle immagini"
      ],
      "id": "3748e3cdf41bd58b"
    }
  ],
  "metadata": {
    "kernelspec": {
      "display_name": "Python 3",
      "language": "python",
      "name": "python3"
    },
    "language_info": {
      "codemirror_mode": {
        "name": "ipython",
        "version": 2
      },
      "file_extension": ".py",
      "mimetype": "text/x-python",
      "name": "python",
      "nbconvert_exporter": "python",
      "pygments_lexer": "ipython2",
      "version": "2.7.6"
    },
    "colab": {
      "provenance": []
    }
  },
  "nbformat": 4,
  "nbformat_minor": 5
}