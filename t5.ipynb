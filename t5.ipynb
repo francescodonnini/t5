{
 "cells": [
  {
   "metadata": {},
   "cell_type": "markdown",
   "source": [
    "Sto considerando di usare i seguenti modelli di ML:\n",
    "1. ResNet.\n",
    "2. GoogLeNet.\n",
    "3. AlexNet."
   ],
   "id": "1fde9c4310d479cd"
  },
  {
   "metadata": {
    "ExecuteTime": {
     "end_time": "2025-01-21T11:53:06.395232Z",
     "start_time": "2025-01-21T11:53:06.358296Z"
    }
   },
   "cell_type": "code",
   "source": [
    "import pathlib\n",
    "\n",
    "data_dir = pathlib.Path('data/chest_xray/train')\n",
    "total = len(list(data_dir.glob('**/*.jpeg')))\n",
    "bacteria = len(list(data_dir.glob('**/BACTERIA-*.jpeg')))\n",
    "virus = len(list(data_dir.glob('**/VIRUS-*.jpeg')))\n",
    "P = len(list(data_dir.glob('**/NORMAL-*.jpeg')))\n",
    "N = total - P\n",
    "print(f'#training set = {total}')\n",
    "print(f'#positives = {P}')\n",
    "print(f'#negatives = {N} (bacteria = {bacteria}, virus = {virus})')"
   ],
   "id": "2f4f765f8bac3d3",
   "outputs": [
    {
     "name": "stdout",
     "output_type": "stream",
     "text": [
      "#training set = 5232\n",
      "#positives = 1349\n",
      "#negatives = 3883 (bacteria = 2538, virus = 1345)\n"
     ]
    }
   ],
   "execution_count": 1
  },
  {
   "metadata": {},
   "cell_type": "markdown",
   "source": [
    "Le immagini nel training set sono 5232 di cui: 1349 appartenenti alla classe NORMAL mentre 3883 alla classe PNEUMONIA.\n",
    "Sto considerando diverse strategie per aumentare la dimensione del dataset:\n",
    "1. Trasformazioni geometriche: specchiare, ruotare, tagliare, allungare.\n",
    "   a. Specchiare e ruotare non mi sembrano che possano essere molto utili per questa tipologia di problema. Similmente anche\n",
    "      il ritagliare l'immagine potrebbe rimuovere porzioni di immagini che potrebbero rivelarsi fondamentali per individuare o meno\n",
    "      la polmonite.\n",
    "   b. Tag\n",
    "2. Modificare la luminosità."
   ],
   "id": "8543b0ed6566af0f"
  },
  {
   "metadata": {
    "ExecuteTime": {
     "end_time": "2025-01-21T11:53:11.328480Z",
     "start_time": "2025-01-21T11:53:09.942215Z"
    }
   },
   "cell_type": "code",
   "source": [
    "from PIL import Image\n",
    "images = list(map(lambda i: Image.open(str(i)), data_dir.glob('**/*.jpeg')))"
   ],
   "id": "554e1f9ec3f46dcf",
   "outputs": [],
   "execution_count": 2
  },
  {
   "metadata": {
    "ExecuteTime": {
     "end_time": "2025-01-21T11:53:15.895050Z",
     "start_time": "2025-01-21T11:53:13.069407Z"
    }
   },
   "cell_type": "code",
   "source": [
    "import matplotlib.pyplot as plt\n",
    "import numpy as np\n",
    "\n",
    "def visualize(original, augmented):\n",
    "  original = 255 - np.array(original)\n",
    "  plt.subplot(1,2,1)\n",
    "  plt.title('Original image')\n",
    "  plt.imshow(original, cmap='gray')\n",
    "  \n",
    "  augmented = 255 - np.array(augmented)\n",
    "  plt.subplot(1,2,2)\n",
    "  plt.title('Augmented image')\n",
    "  plt.imshow(augmented, cmap='gray')"
   ],
   "id": "ae6aff408b6fd89f",
   "outputs": [
    {
     "name": "stderr",
     "output_type": "stream",
     "text": [
      "2025-01-21 12:53:13.431591: E external/local_xla/xla/stream_executor/cuda/cuda_fft.cc:485] Unable to register cuFFT factory: Attempting to register factory for plugin cuFFT when one has already been registered\n",
      "2025-01-21 12:53:13.468742: E external/local_xla/xla/stream_executor/cuda/cuda_dnn.cc:8454] Unable to register cuDNN factory: Attempting to register factory for plugin cuDNN when one has already been registered\n",
      "2025-01-21 12:53:13.478382: E external/local_xla/xla/stream_executor/cuda/cuda_blas.cc:1452] Unable to register cuBLAS factory: Attempting to register factory for plugin cuBLAS when one has already been registered\n",
      "2025-01-21 12:53:13.570328: I tensorflow/core/platform/cpu_feature_guard.cc:210] This TensorFlow binary is optimized to use available CPU instructions in performance-critical operations.\n",
      "To enable the following instructions: SSE4.1 SSE4.2 AVX AVX2 FMA, in other operations, rebuild TensorFlow with the appropriate compiler flags.\n"
     ]
    }
   ],
   "execution_count": 3
  },
  {
   "metadata": {},
   "cell_type": "markdown",
   "source": [
    "È necessario ridimensionare le immagini per:\n",
    "- Utilizzare meno risorse computazionali.\n",
    "- Velocizzare sia addestramento che inferenza.\n",
    "Al momento sto considerando le diverse strategie per il ridimensionamento delle immagini:\n",
    "1. Ridimensionare tutte le immagini a 133x133 dove 133 è l'altezza minima tra tutte le immagini.\n",
    "2. Ridimensionare tutte le immagini a 290x290 dove 290 è l'altezza media delle immagini"
   ],
   "id": "3748e3cdf41bd58b"
  }
 ],
 "metadata": {
  "kernelspec": {
   "display_name": "Python 3",
   "language": "python",
   "name": "python3"
  },
  "language_info": {
   "codemirror_mode": {
    "name": "ipython",
    "version": 2
   },
   "file_extension": ".py",
   "mimetype": "text/x-python",
   "name": "python",
   "nbconvert_exporter": "python",
   "pygments_lexer": "ipython2",
   "version": "2.7.6"
  }
 },
 "nbformat": 4,
 "nbformat_minor": 5
}
