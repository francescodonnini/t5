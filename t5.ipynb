{
 "cells": [
  {
   "cell_type": "code",
   "id": "initial_id",
   "metadata": {
    "collapsed": true,
    "ExecuteTime": {
     "end_time": "2025-02-13T00:22:35.057154Z",
     "start_time": "2025-02-13T00:22:35.055169Z"
    }
   },
   "source": [
    "from keras import layers\n",
    "\n",
    "from models import create_model\n",
    "from models.layers import RandomSwitch\n",
    "from utils import plot_metrics\n",
    "from utils.data import from_dir, over_sampling, random_resample, from_zip\n",
    "\n",
    "data_path = 'data/chest_xray/train'"
   ],
   "outputs": [],
   "execution_count": 10
  },
  {
   "metadata": {
    "ExecuteTime": {
     "end_time": "2025-02-13T00:22:35.062963Z",
     "start_time": "2025-02-13T00:22:35.058747Z"
    }
   },
   "cell_type": "code",
   "source": "resize = (299, 299)",
   "id": "228750735f1a474f",
   "outputs": [],
   "execution_count": 11
  },
  {
   "metadata": {
    "ExecuteTime": {
     "end_time": "2025-02-13T00:22:37.629589Z",
     "start_time": "2025-02-13T00:22:35.102769Z"
    }
   },
   "cell_type": "code",
   "source": [
    "training_selector = lambda s: s.startswith('chest_xray/train/') and s.endswith('.jpeg')\n",
    "(x, y) = from_dir(data_path, resize=resize, resample=random_resample)"
   ],
   "id": "83913e74c64ac90",
   "outputs": [],
   "execution_count": 12
  },
  {
   "metadata": {
    "ExecuteTime": {
     "end_time": "2025-02-13T00:22:37.641233Z",
     "start_time": "2025-02-13T00:22:37.638360Z"
    }
   },
   "cell_type": "code",
   "source": [
    "NEG_IDX = 0\n",
    "POS_IDX = 1\n",
    "TOTAL   = len(y)\n",
    "N       = len(list(filter(lambda j: j[NEG_IDX] > 0, y)))\n",
    "P       = len(list(filter(lambda j: j[POS_IDX] > 0, y)))\n",
    "print(f'#Positives = {P} ({P/TOTAL*100:.2f}%)')\n",
    "print(f'#Negatives = {N} ({N/TOTAL*100:.2f}%)')"
   ],
   "id": "ca55561bf0b533f7",
   "outputs": [
    {
     "name": "stdout",
     "output_type": "stream",
     "text": [
      "#Positives = 3883 (74.22%)\n",
      "#Negatives = 1349 (25.78%)\n"
     ]
    }
   ],
   "execution_count": 13
  },
  {
   "metadata": {
    "ExecuteTime": {
     "end_time": "2025-02-13T00:22:37.718392Z",
     "start_time": "2025-02-13T00:22:37.681160Z"
    }
   },
   "cell_type": "code",
   "source": [
    "from sklearn.model_selection import train_test_split\n",
    "\n",
    "X_train, X_val, Y_train, Y_val = train_test_split(x, y, test_size=0.2, random_state=42)\n",
    "total_train = len(Y_train)\n",
    "N_train     = len(list(filter(lambda j: j[NEG_IDX] > 0, Y_train)))\n",
    "P_train     = len(list(filter(lambda j: j[POS_IDX] > 0, Y_train)))\n",
    "print(f'#Positives (train) = {P_train} ({P_train/total_train*100:.2f}%)')\n",
    "print(f'#Negatives (train) = {N_train} ({N_train/total_train*100:.2f}%)')\n",
    "total_val   = len(Y_val)\n",
    "N_val       = len(list(filter(lambda j: j[NEG_IDX] > 0, Y_val)))\n",
    "P_val       = len(list(filter(lambda j: j[POS_IDX] > 0, Y_val)))\n",
    "print(f'#Positives (val)   = {P_val} ({P_val/total_val*100:.2f}%)')\n",
    "print(f'#Negatives (val)   = {N_val} ({N_val/total_val*100:.2f}%)')"
   ],
   "id": "48387a255489999",
   "outputs": [
    {
     "name": "stdout",
     "output_type": "stream",
     "text": [
      "#Positives (train) = 3095 (73.95%)\n",
      "#Negatives (train) = 1090 (26.05%)\n",
      "#Positives (val)   = 788 (75.26%)\n",
      "#Negatives (val)   = 259 (24.74%)\n"
     ]
    }
   ],
   "execution_count": 14
  },
  {
   "metadata": {
    "ExecuteTime": {
     "end_time": "2025-02-13T00:22:37.785282Z",
     "start_time": "2025-02-13T00:22:37.727276Z"
    }
   },
   "cell_type": "code",
   "source": [
    "xs_extras, ys_extras = over_sampling(X_train, Y_train)\n",
    "total   = len(ys_extras)\n",
    "N_extras       = len(list(filter(lambda j: j[NEG_IDX] > 0, ys_extras)))\n",
    "P_extras       = len(list(filter(lambda j: j[POS_IDX] > 0, ys_extras)))\n",
    "print(f'#Positives (val)   = {P_extras} ({P_extras/total*100:.2f}%)')\n",
    "print(f'#Negatives (val)   = {N_extras} ({N_extras/total*100:.2f}%)')"
   ],
   "id": "18a68cbbe0264ed",
   "outputs": [
    {
     "name": "stdout",
     "output_type": "stream",
     "text": [
      "#Positives (val)   = 3095 (50.00%)\n",
      "#Negatives (val)   = 3095 (50.00%)\n"
     ]
    }
   ],
   "execution_count": 15
  },
  {
   "metadata": {
    "ExecuteTime": {
     "end_time": "2025-02-13T00:22:37.801352Z",
     "start_time": "2025-02-13T00:22:37.794207Z"
    }
   },
   "cell_type": "code",
   "source": [
    "tr = layers.RandomTranslation(0.2, 0.2, data_format='channels_last')\n",
    "rr = layers.RandomRotation(0.2, data_format='channels_last')\n",
    "rb = layers.RandomBrightness(0.2, data_format='channels_last')\n",
    "rc = layers.RandomContrast(0.2, data_format='channels_last')\n",
    "rz = layers.RandomZoom(0.2, 0.2, data_format='channels_last')\n",
    "p1 = layers.Pipeline([rr, rz])\n",
    "p2 = layers.Pipeline([tr, rr])\n",
    "p3 = layers.Pipeline([rr, rc])\n",
    "data_augmentation = RandomSwitch([tr, rr, rb, rc, rz, p1, p2, p3], 0.7)"
   ],
   "id": "3aff7f85b7bcaa01",
   "outputs": [],
   "execution_count": 16
  },
  {
   "metadata": {
    "ExecuteTime": {
     "end_time": "2025-02-13T00:23:19.738104Z",
     "start_time": "2025-02-13T00:23:19.560272Z"
    }
   },
   "cell_type": "code",
   "source": "v1 = create_model('resnet-18', resize=resize, data_augmentation=data_augmentation)",
   "id": "5a73dc567b0cb282",
   "outputs": [
    {
     "name": "stderr",
     "output_type": "stream",
     "text": [
      "/home/francesco/Documents/Università/ML/t5/.venv/lib/python3.12/site-packages/keras/src/layers/layer.py:393: UserWarning: `build()` was called on layer 'residual', however the layer does not have a `build()` method implemented and it looks like it has unbuilt state. This will cause the layer to be marked as built, despite not being actually built, which may cause failures down the line. Make sure to implement a proper `build()` method.\n",
      "  warnings.warn(\n",
      "/home/francesco/Documents/Università/ML/t5/.venv/lib/python3.12/site-packages/keras/src/layers/layer.py:393: UserWarning: `build()` was called on layer 'residual_1', however the layer does not have a `build()` method implemented and it looks like it has unbuilt state. This will cause the layer to be marked as built, despite not being actually built, which may cause failures down the line. Make sure to implement a proper `build()` method.\n",
      "  warnings.warn(\n",
      "/home/francesco/Documents/Università/ML/t5/.venv/lib/python3.12/site-packages/keras/src/layers/layer.py:393: UserWarning: `build()` was called on layer 'residual_2', however the layer does not have a `build()` method implemented and it looks like it has unbuilt state. This will cause the layer to be marked as built, despite not being actually built, which may cause failures down the line. Make sure to implement a proper `build()` method.\n",
      "  warnings.warn(\n",
      "/home/francesco/Documents/Università/ML/t5/.venv/lib/python3.12/site-packages/keras/src/layers/layer.py:393: UserWarning: `build()` was called on layer 'residual_3', however the layer does not have a `build()` method implemented and it looks like it has unbuilt state. This will cause the layer to be marked as built, despite not being actually built, which may cause failures down the line. Make sure to implement a proper `build()` method.\n",
      "  warnings.warn(\n",
      "/home/francesco/Documents/Università/ML/t5/.venv/lib/python3.12/site-packages/keras/src/layers/layer.py:393: UserWarning: `build()` was called on layer 'residual_4', however the layer does not have a `build()` method implemented and it looks like it has unbuilt state. This will cause the layer to be marked as built, despite not being actually built, which may cause failures down the line. Make sure to implement a proper `build()` method.\n",
      "  warnings.warn(\n"
     ]
    }
   ],
   "execution_count": 19
  },
  {
   "metadata": {
    "ExecuteTime": {
     "end_time": "2025-02-13T00:23:27.552165Z",
     "start_time": "2025-02-13T00:23:27.537512Z"
    }
   },
   "cell_type": "code",
   "source": [
    "from keras import losses, metrics, optimizers\n",
    "\n",
    "METRICS = [\n",
    "    metrics.BinaryCrossentropy(name='cross entropy'),  # same as model's loss\n",
    "    # metrics.MeanSquaredError(name='Brier score'),\n",
    "    # metrics.TruePositives(name='tp'),\n",
    "    # metrics.FalsePositives(name='fp'),\n",
    "    # metrics.TrueNegatives(name='tn'),\n",
    "    # metrics.FalseNegatives(name='fn'),\n",
    "    # metrics.BinaryAccuracy(name='accuracy'),\n",
    "    metrics.Precision(name='precision'),\n",
    "    metrics.Recall(name='recall'),\n",
    "    metrics.AUC(name='auc'),\n",
    "    metrics.AUC(name='prc', curve='PR'), # precision-recall curve\n",
    "]\n",
    "\n",
    "v1.compile(optimizer=optimizers.Adam(), loss=losses.BinaryCrossentropy(), metrics=METRICS)\n",
    "v1.summary()"
   ],
   "id": "328dd297301bf952",
   "outputs": [
    {
     "data": {
      "text/plain": [
       "\u001B[1mModel: \"sequential_12\"\u001B[0m\n"
      ],
      "text/html": [
       "<pre style=\"white-space:pre;overflow-x:auto;line-height:normal;font-family:Menlo,'DejaVu Sans Mono',consolas,'Courier New',monospace\"><span style=\"font-weight: bold\">Model: \"sequential_12\"</span>\n",
       "</pre>\n"
      ]
     },
     "metadata": {},
     "output_type": "display_data"
    },
    {
     "data": {
      "text/plain": [
       "┏━━━━━━━━━━━━━━━━━━━━━━━━━━━━━━━━━┳━━━━━━━━━━━━━━━━━━━━━━━━┳━━━━━━━━━━━━━━━┓\n",
       "┃\u001B[1m \u001B[0m\u001B[1mLayer (type)                   \u001B[0m\u001B[1m \u001B[0m┃\u001B[1m \u001B[0m\u001B[1mOutput Shape          \u001B[0m\u001B[1m \u001B[0m┃\u001B[1m \u001B[0m\u001B[1m      Param #\u001B[0m\u001B[1m \u001B[0m┃\n",
       "┡━━━━━━━━━━━━━━━━━━━━━━━━━━━━━━━━━╇━━━━━━━━━━━━━━━━━━━━━━━━╇━━━━━━━━━━━━━━━┩\n",
       "│ random_switch_1 (\u001B[38;5;33mRandomSwitch\u001B[0m)  │ (\u001B[38;5;45mNone\u001B[0m, \u001B[38;5;34m299\u001B[0m, \u001B[38;5;34m299\u001B[0m, \u001B[38;5;34m1\u001B[0m)    │             \u001B[38;5;34m0\u001B[0m │\n",
       "├─────────────────────────────────┼────────────────────────┼───────────────┤\n",
       "│ rescaling_2 (\u001B[38;5;33mRescaling\u001B[0m)         │ (\u001B[38;5;45mNone\u001B[0m, \u001B[38;5;34m299\u001B[0m, \u001B[38;5;34m299\u001B[0m, \u001B[38;5;34m1\u001B[0m)    │             \u001B[38;5;34m0\u001B[0m │\n",
       "├─────────────────────────────────┼────────────────────────┼───────────────┤\n",
       "│ conv2d_10 (\u001B[38;5;33mConv2D\u001B[0m)              │ (\u001B[38;5;45mNone\u001B[0m, \u001B[38;5;34m150\u001B[0m, \u001B[38;5;34m150\u001B[0m, \u001B[38;5;34m64\u001B[0m)   │         \u001B[38;5;34m3,200\u001B[0m │\n",
       "├─────────────────────────────────┼────────────────────────┼───────────────┤\n",
       "│ batch_normalization_10          │ (\u001B[38;5;45mNone\u001B[0m, \u001B[38;5;34m150\u001B[0m, \u001B[38;5;34m150\u001B[0m, \u001B[38;5;34m64\u001B[0m)   │           \u001B[38;5;34m256\u001B[0m │\n",
       "│ (\u001B[38;5;33mBatchNormalization\u001B[0m)            │                        │               │\n",
       "├─────────────────────────────────┼────────────────────────┼───────────────┤\n",
       "│ re_lu (\u001B[38;5;33mReLU\u001B[0m)                    │ (\u001B[38;5;45mNone\u001B[0m, \u001B[38;5;34m150\u001B[0m, \u001B[38;5;34m150\u001B[0m, \u001B[38;5;34m64\u001B[0m)   │             \u001B[38;5;34m0\u001B[0m │\n",
       "├─────────────────────────────────┼────────────────────────┼───────────────┤\n",
       "│ max_pooling2d_6 (\u001B[38;5;33mMaxPooling2D\u001B[0m)  │ (\u001B[38;5;45mNone\u001B[0m, \u001B[38;5;34m75\u001B[0m, \u001B[38;5;34m75\u001B[0m, \u001B[38;5;34m64\u001B[0m)     │             \u001B[38;5;34m0\u001B[0m │\n",
       "├─────────────────────────────────┼────────────────────────┼───────────────┤\n",
       "│ sequential_13 (\u001B[38;5;33mSequential\u001B[0m)      │ (\u001B[38;5;45mNone\u001B[0m, \u001B[38;5;34m75\u001B[0m, \u001B[38;5;34m75\u001B[0m, \u001B[38;5;34m64\u001B[0m)     │        \u001B[38;5;34m74,368\u001B[0m │\n",
       "├─────────────────────────────────┼────────────────────────┼───────────────┤\n",
       "│ sequential_15 (\u001B[38;5;33mSequential\u001B[0m)      │ (\u001B[38;5;45mNone\u001B[0m, \u001B[38;5;34m38\u001B[0m, \u001B[38;5;34m38\u001B[0m, \u001B[38;5;34m128\u001B[0m)    │       \u001B[38;5;34m526,976\u001B[0m │\n",
       "├─────────────────────────────────┼────────────────────────┼───────────────┤\n",
       "│ sequential_18 (\u001B[38;5;33mSequential\u001B[0m)      │ (\u001B[38;5;45mNone\u001B[0m, \u001B[38;5;34m19\u001B[0m, \u001B[38;5;34m19\u001B[0m, \u001B[38;5;34m512\u001B[0m)    │     \u001B[38;5;34m7,744,000\u001B[0m │\n",
       "├─────────────────────────────────┼────────────────────────┼───────────────┤\n",
       "│ global_average_pooling2d        │ (\u001B[38;5;45mNone\u001B[0m, \u001B[38;5;34m512\u001B[0m)            │             \u001B[38;5;34m0\u001B[0m │\n",
       "│ (\u001B[38;5;33mGlobalAveragePooling2D\u001B[0m)        │                        │               │\n",
       "├─────────────────────────────────┼────────────────────────┼───────────────┤\n",
       "│ dense_8 (\u001B[38;5;33mDense\u001B[0m)                 │ (\u001B[38;5;45mNone\u001B[0m, \u001B[38;5;34m2\u001B[0m)              │         \u001B[38;5;34m1,026\u001B[0m │\n",
       "└─────────────────────────────────┴────────────────────────┴───────────────┘\n"
      ],
      "text/html": [
       "<pre style=\"white-space:pre;overflow-x:auto;line-height:normal;font-family:Menlo,'DejaVu Sans Mono',consolas,'Courier New',monospace\">┏━━━━━━━━━━━━━━━━━━━━━━━━━━━━━━━━━┳━━━━━━━━━━━━━━━━━━━━━━━━┳━━━━━━━━━━━━━━━┓\n",
       "┃<span style=\"font-weight: bold\"> Layer (type)                    </span>┃<span style=\"font-weight: bold\"> Output Shape           </span>┃<span style=\"font-weight: bold\">       Param # </span>┃\n",
       "┡━━━━━━━━━━━━━━━━━━━━━━━━━━━━━━━━━╇━━━━━━━━━━━━━━━━━━━━━━━━╇━━━━━━━━━━━━━━━┩\n",
       "│ random_switch_1 (<span style=\"color: #0087ff; text-decoration-color: #0087ff\">RandomSwitch</span>)  │ (<span style=\"color: #00d7ff; text-decoration-color: #00d7ff\">None</span>, <span style=\"color: #00af00; text-decoration-color: #00af00\">299</span>, <span style=\"color: #00af00; text-decoration-color: #00af00\">299</span>, <span style=\"color: #00af00; text-decoration-color: #00af00\">1</span>)    │             <span style=\"color: #00af00; text-decoration-color: #00af00\">0</span> │\n",
       "├─────────────────────────────────┼────────────────────────┼───────────────┤\n",
       "│ rescaling_2 (<span style=\"color: #0087ff; text-decoration-color: #0087ff\">Rescaling</span>)         │ (<span style=\"color: #00d7ff; text-decoration-color: #00d7ff\">None</span>, <span style=\"color: #00af00; text-decoration-color: #00af00\">299</span>, <span style=\"color: #00af00; text-decoration-color: #00af00\">299</span>, <span style=\"color: #00af00; text-decoration-color: #00af00\">1</span>)    │             <span style=\"color: #00af00; text-decoration-color: #00af00\">0</span> │\n",
       "├─────────────────────────────────┼────────────────────────┼───────────────┤\n",
       "│ conv2d_10 (<span style=\"color: #0087ff; text-decoration-color: #0087ff\">Conv2D</span>)              │ (<span style=\"color: #00d7ff; text-decoration-color: #00d7ff\">None</span>, <span style=\"color: #00af00; text-decoration-color: #00af00\">150</span>, <span style=\"color: #00af00; text-decoration-color: #00af00\">150</span>, <span style=\"color: #00af00; text-decoration-color: #00af00\">64</span>)   │         <span style=\"color: #00af00; text-decoration-color: #00af00\">3,200</span> │\n",
       "├─────────────────────────────────┼────────────────────────┼───────────────┤\n",
       "│ batch_normalization_10          │ (<span style=\"color: #00d7ff; text-decoration-color: #00d7ff\">None</span>, <span style=\"color: #00af00; text-decoration-color: #00af00\">150</span>, <span style=\"color: #00af00; text-decoration-color: #00af00\">150</span>, <span style=\"color: #00af00; text-decoration-color: #00af00\">64</span>)   │           <span style=\"color: #00af00; text-decoration-color: #00af00\">256</span> │\n",
       "│ (<span style=\"color: #0087ff; text-decoration-color: #0087ff\">BatchNormalization</span>)            │                        │               │\n",
       "├─────────────────────────────────┼────────────────────────┼───────────────┤\n",
       "│ re_lu (<span style=\"color: #0087ff; text-decoration-color: #0087ff\">ReLU</span>)                    │ (<span style=\"color: #00d7ff; text-decoration-color: #00d7ff\">None</span>, <span style=\"color: #00af00; text-decoration-color: #00af00\">150</span>, <span style=\"color: #00af00; text-decoration-color: #00af00\">150</span>, <span style=\"color: #00af00; text-decoration-color: #00af00\">64</span>)   │             <span style=\"color: #00af00; text-decoration-color: #00af00\">0</span> │\n",
       "├─────────────────────────────────┼────────────────────────┼───────────────┤\n",
       "│ max_pooling2d_6 (<span style=\"color: #0087ff; text-decoration-color: #0087ff\">MaxPooling2D</span>)  │ (<span style=\"color: #00d7ff; text-decoration-color: #00d7ff\">None</span>, <span style=\"color: #00af00; text-decoration-color: #00af00\">75</span>, <span style=\"color: #00af00; text-decoration-color: #00af00\">75</span>, <span style=\"color: #00af00; text-decoration-color: #00af00\">64</span>)     │             <span style=\"color: #00af00; text-decoration-color: #00af00\">0</span> │\n",
       "├─────────────────────────────────┼────────────────────────┼───────────────┤\n",
       "│ sequential_13 (<span style=\"color: #0087ff; text-decoration-color: #0087ff\">Sequential</span>)      │ (<span style=\"color: #00d7ff; text-decoration-color: #00d7ff\">None</span>, <span style=\"color: #00af00; text-decoration-color: #00af00\">75</span>, <span style=\"color: #00af00; text-decoration-color: #00af00\">75</span>, <span style=\"color: #00af00; text-decoration-color: #00af00\">64</span>)     │        <span style=\"color: #00af00; text-decoration-color: #00af00\">74,368</span> │\n",
       "├─────────────────────────────────┼────────────────────────┼───────────────┤\n",
       "│ sequential_15 (<span style=\"color: #0087ff; text-decoration-color: #0087ff\">Sequential</span>)      │ (<span style=\"color: #00d7ff; text-decoration-color: #00d7ff\">None</span>, <span style=\"color: #00af00; text-decoration-color: #00af00\">38</span>, <span style=\"color: #00af00; text-decoration-color: #00af00\">38</span>, <span style=\"color: #00af00; text-decoration-color: #00af00\">128</span>)    │       <span style=\"color: #00af00; text-decoration-color: #00af00\">526,976</span> │\n",
       "├─────────────────────────────────┼────────────────────────┼───────────────┤\n",
       "│ sequential_18 (<span style=\"color: #0087ff; text-decoration-color: #0087ff\">Sequential</span>)      │ (<span style=\"color: #00d7ff; text-decoration-color: #00d7ff\">None</span>, <span style=\"color: #00af00; text-decoration-color: #00af00\">19</span>, <span style=\"color: #00af00; text-decoration-color: #00af00\">19</span>, <span style=\"color: #00af00; text-decoration-color: #00af00\">512</span>)    │     <span style=\"color: #00af00; text-decoration-color: #00af00\">7,744,000</span> │\n",
       "├─────────────────────────────────┼────────────────────────┼───────────────┤\n",
       "│ global_average_pooling2d        │ (<span style=\"color: #00d7ff; text-decoration-color: #00d7ff\">None</span>, <span style=\"color: #00af00; text-decoration-color: #00af00\">512</span>)            │             <span style=\"color: #00af00; text-decoration-color: #00af00\">0</span> │\n",
       "│ (<span style=\"color: #0087ff; text-decoration-color: #0087ff\">GlobalAveragePooling2D</span>)        │                        │               │\n",
       "├─────────────────────────────────┼────────────────────────┼───────────────┤\n",
       "│ dense_8 (<span style=\"color: #0087ff; text-decoration-color: #0087ff\">Dense</span>)                 │ (<span style=\"color: #00d7ff; text-decoration-color: #00d7ff\">None</span>, <span style=\"color: #00af00; text-decoration-color: #00af00\">2</span>)              │         <span style=\"color: #00af00; text-decoration-color: #00af00\">1,026</span> │\n",
       "└─────────────────────────────────┴────────────────────────┴───────────────┘\n",
       "</pre>\n"
      ]
     },
     "metadata": {},
     "output_type": "display_data"
    },
    {
     "data": {
      "text/plain": [
       "\u001B[1m Total params: \u001B[0m\u001B[38;5;34m8,349,826\u001B[0m (31.85 MB)\n"
      ],
      "text/html": [
       "<pre style=\"white-space:pre;overflow-x:auto;line-height:normal;font-family:Menlo,'DejaVu Sans Mono',consolas,'Courier New',monospace\"><span style=\"font-weight: bold\"> Total params: </span><span style=\"color: #00af00; text-decoration-color: #00af00\">8,349,826</span> (31.85 MB)\n",
       "</pre>\n"
      ]
     },
     "metadata": {},
     "output_type": "display_data"
    },
    {
     "data": {
      "text/plain": [
       "\u001B[1m Trainable params: \u001B[0m\u001B[38;5;34m8,344,322\u001B[0m (31.83 MB)\n"
      ],
      "text/html": [
       "<pre style=\"white-space:pre;overflow-x:auto;line-height:normal;font-family:Menlo,'DejaVu Sans Mono',consolas,'Courier New',monospace\"><span style=\"font-weight: bold\"> Trainable params: </span><span style=\"color: #00af00; text-decoration-color: #00af00\">8,344,322</span> (31.83 MB)\n",
       "</pre>\n"
      ]
     },
     "metadata": {},
     "output_type": "display_data"
    },
    {
     "data": {
      "text/plain": [
       "\u001B[1m Non-trainable params: \u001B[0m\u001B[38;5;34m5,504\u001B[0m (21.50 KB)\n"
      ],
      "text/html": [
       "<pre style=\"white-space:pre;overflow-x:auto;line-height:normal;font-family:Menlo,'DejaVu Sans Mono',consolas,'Courier New',monospace\"><span style=\"font-weight: bold\"> Non-trainable params: </span><span style=\"color: #00af00; text-decoration-color: #00af00\">5,504</span> (21.50 KB)\n",
       "</pre>\n"
      ]
     },
     "metadata": {},
     "output_type": "display_data"
    }
   ],
   "execution_count": 20
  },
  {
   "metadata": {
    "ExecuteTime": {
     "end_time": "2025-02-13T00:20:09.892284Z",
     "start_time": "2025-02-13T00:20:09.890173Z"
    }
   },
   "cell_type": "code",
   "source": [
    "from keras import callbacks\n",
    "\n",
    "EPOCHS = 100\n",
    "BATCH_SIZE = 64\n",
    "early_stopping = callbacks.EarlyStopping(\n",
    "    verbose=1,\n",
    "    patience=10,\n",
    "    restore_best_weights=True)"
   ],
   "id": "d5568bf17c7c7ade",
   "outputs": [],
   "execution_count": 10
  },
  {
   "metadata": {
    "ExecuteTime": {
     "end_time": "2025-02-13T00:21:22.346155Z",
     "start_time": "2025-02-13T00:20:10.393469Z"
    }
   },
   "cell_type": "code",
   "source": [
    "history = v1.fit(\n",
    "    xs_extras,\n",
    "    ys_extras,\n",
    "    batch_size=BATCH_SIZE,\n",
    "    epochs=EPOCHS,\n",
    "    callbacks=[early_stopping],\n",
    "    validation_data=(X_val, Y_val),\n",
    "    validation_freq=1)"
   ],
   "id": "8bdcd4f61eb5219e",
   "outputs": [
    {
     "name": "stdout",
     "output_type": "stream",
     "text": [
      "Epoch 1/100\n",
      "\u001B[1m40/97\u001B[0m \u001B[32m━━━━━━━━\u001B[0m\u001B[37m━━━━━━━━━━━━\u001B[0m \u001B[1m1:32\u001B[0m 2s/step - auc: 0.5537 - cross entropy: 0.8149 - loss: 0.8149 - prc: 0.5476 - precision: 0.5281 - recall: 0.5281"
     ]
    },
    {
     "name": "stderr",
     "output_type": "stream",
     "text": [
      "Exception ignored in: <bound method IPythonKernel._clean_thread_parent_frames of <ipykernel.ipkernel.IPythonKernel object at 0x7f55514712e0>>\n",
      "Traceback (most recent call last):\n",
      "  File \"/home/francesco/Documents/Università/ML/t5/.venv/lib/python3.12/site-packages/ipykernel/ipkernel.py\", line 775, in _clean_thread_parent_frames\n",
      "    def _clean_thread_parent_frames(\n",
      "\n",
      "KeyboardInterrupt: \n",
      "\n",
      "KeyboardInterrupt\n",
      "\n"
     ]
    }
   ],
   "execution_count": 11
  },
  {
   "metadata": {},
   "cell_type": "code",
   "outputs": [],
   "execution_count": null,
   "source": "plot_metrics(history, metrics=['loss', 'precision', 'recall', 'auc'])",
   "id": "c6850cc9416b7f2d"
  }
 ],
 "metadata": {
  "kernelspec": {
   "display_name": "Python 3",
   "language": "python",
   "name": "python3"
  },
  "language_info": {
   "codemirror_mode": {
    "name": "ipython",
    "version": 2
   },
   "file_extension": ".py",
   "mimetype": "text/x-python",
   "name": "python",
   "nbconvert_exporter": "python",
   "pygments_lexer": "ipython2",
   "version": "2.7.6"
  }
 },
 "nbformat": 4,
 "nbformat_minor": 5
}
