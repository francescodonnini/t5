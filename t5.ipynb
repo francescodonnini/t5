{
 "cells": [
  {
   "cell_type": "code",
   "id": "initial_id",
   "metadata": {
    "collapsed": true,
    "ExecuteTime": {
     "end_time": "2025-02-24T17:03:33.800757Z",
     "start_time": "2025-02-24T17:03:32.554850Z"
    }
   },
   "source": [
    "from core.data import from_dir, random_resample\n",
    "\n",
    "data_path = 'data/chest_xray/train'"
   ],
   "outputs": [
    {
     "name": "stderr",
     "output_type": "stream",
     "text": [
      "2025-02-24 18:03:32.707103: I tensorflow/core/util/port.cc:153] oneDNN custom operations are on. You may see slightly different numerical results due to floating-point round-off errors from different computation orders. To turn them off, set the environment variable `TF_ENABLE_ONEDNN_OPTS=0`.\n",
      "2025-02-24 18:03:32.707402: I external/local_xla/xla/tsl/cuda/cudart_stub.cc:32] Could not find cuda drivers on your machine, GPU will not be used.\n",
      "2025-02-24 18:03:32.709009: I external/local_xla/xla/tsl/cuda/cudart_stub.cc:32] Could not find cuda drivers on your machine, GPU will not be used.\n",
      "2025-02-24 18:03:32.713067: E external/local_xla/xla/stream_executor/cuda/cuda_fft.cc:477] Unable to register cuFFT factory: Attempting to register factory for plugin cuFFT when one has already been registered\n",
      "WARNING: All log messages before absl::InitializeLog() is called are written to STDERR\n",
      "E0000 00:00:1740416612.720165   48585 cuda_dnn.cc:8310] Unable to register cuDNN factory: Attempting to register factory for plugin cuDNN when one has already been registered\n",
      "E0000 00:00:1740416612.722114   48585 cuda_blas.cc:1418] Unable to register cuBLAS factory: Attempting to register factory for plugin cuBLAS when one has already been registered\n",
      "2025-02-24 18:03:32.730077: I tensorflow/core/platform/cpu_feature_guard.cc:210] This TensorFlow binary is optimized to use available CPU instructions in performance-critical operations.\n",
      "To enable the following instructions: AVX2 AVX512F AVX512_VNNI AVX512_BF16 AVX_VNNI FMA, in other operations, rebuild TensorFlow with the appropriate compiler flags.\n"
     ]
    }
   ],
   "execution_count": 1
  },
  {
   "metadata": {
    "ExecuteTime": {
     "end_time": "2025-02-24T17:03:33.805295Z",
     "start_time": "2025-02-24T17:03:33.803704Z"
    }
   },
   "cell_type": "code",
   "source": "resize = (96, 96)",
   "id": "228750735f1a474f",
   "outputs": [],
   "execution_count": 2
  },
  {
   "metadata": {
    "ExecuteTime": {
     "end_time": "2025-02-24T17:03:35.754409Z",
     "start_time": "2025-02-24T17:03:33.846957Z"
    }
   },
   "cell_type": "code",
   "source": [
    "training_selector = lambda s: s.startswith('chest_xray/train/') and s.endswith('.jpeg')\n",
    "(x, y) = from_dir(data_path, resize=resize, resample=random_resample)"
   ],
   "id": "83913e74c64ac90",
   "outputs": [],
   "execution_count": 3
  },
  {
   "metadata": {
    "ExecuteTime": {
     "end_time": "2025-02-24T17:03:35.760598Z",
     "start_time": "2025-02-24T17:03:35.759151Z"
    }
   },
   "cell_type": "code",
   "source": "x_batch, y_batch = x[:10], y[:10]",
   "id": "56e42e0c0be7b9e1",
   "outputs": [],
   "execution_count": 4
  },
  {
   "metadata": {
    "ExecuteTime": {
     "end_time": "2025-02-24T17:03:35.874792Z",
     "start_time": "2025-02-24T17:03:35.800920Z"
    }
   },
   "cell_type": "code",
   "source": [
    "from core.layers import RandomCutout\n",
    "\n",
    "cut = RandomCutout(32, 2)(x_batch)"
   ],
   "id": "bb4f95b279166990",
   "outputs": [
    {
     "name": "stderr",
     "output_type": "stream",
     "text": [
      "2025-02-24 18:03:35.803807: E external/local_xla/xla/stream_executor/cuda/cuda_driver.cc:152] failed call to cuInit: INTERNAL: CUDA error: Failed call to cuInit: UNKNOWN ERROR (303)\n"
     ]
    }
   ],
   "execution_count": 5
  },
  {
   "metadata": {
    "ExecuteTime": {
     "end_time": "2025-02-24T17:03:35.887959Z",
     "start_time": "2025-02-24T17:03:35.881255Z"
    }
   },
   "cell_type": "code",
   "source": [
    "NEG_IDX = 0\n",
    "POS_IDX = 1\n",
    "TOTAL   = len(y)\n",
    "N       = len(list(filter(lambda j: j == 0, y)))\n",
    "P       = len(list(filter(lambda j: j == 1, y)))\n",
    "print(f'#Positives = {P} ({P/TOTAL*100:.2f}%)')\n",
    "print(f'#Negatives = {N} ({N/TOTAL*100:.2f}%)')"
   ],
   "id": "ca55561bf0b533f7",
   "outputs": [
    {
     "name": "stdout",
     "output_type": "stream",
     "text": [
      "#Positives = 3883 (74.22%)\n",
      "#Negatives = 1349 (25.78%)\n"
     ]
    }
   ],
   "execution_count": 6
  },
  {
   "metadata": {
    "ExecuteTime": {
     "end_time": "2025-02-24T17:03:35.979010Z",
     "start_time": "2025-02-24T17:03:35.924694Z"
    }
   },
   "cell_type": "code",
   "source": [
    "from sklearn.model_selection import train_test_split\n",
    "\n",
    "X_train, X_val, Y_train, Y_val = train_test_split(x, y, test_size=0.2, random_state=42)\n",
    "total_train = len(Y_train)\n",
    "N_train     = len(list(filter(lambda j: j == 0, Y_train)))\n",
    "P_train     = len(list(filter(lambda j: j == 1, Y_train)))\n",
    "print(f'#Positives (train) = {P_train} ({P_train/total_train*100:.2f}%)')\n",
    "print(f'#Negatives (train) = {N_train} ({N_train/total_train*100:.2f}%)')\n",
    "total_val   = len(Y_val)\n",
    "N_val       = len(list(filter(lambda j: j == 0, Y_val)))\n",
    "P_val       = len(list(filter(lambda j: j == 1, Y_val)))\n",
    "print(f'#Positives (val)   = {P_val} ({P_val/total_val*100:.2f}%)')\n",
    "print(f'#Negatives (val)   = {N_val} ({N_val/total_val*100:.2f}%)')"
   ],
   "id": "48387a255489999",
   "outputs": [
    {
     "name": "stdout",
     "output_type": "stream",
     "text": [
      "#Positives (train) = 3095 (73.95%)\n",
      "#Negatives (train) = 1090 (26.05%)\n",
      "#Positives (val)   = 788 (75.26%)\n",
      "#Negatives (val)   = 259 (24.74%)\n"
     ]
    }
   ],
   "execution_count": 7
  },
  {
   "metadata": {
    "ExecuteTime": {
     "end_time": "2025-02-24T17:03:36.039990Z",
     "start_time": "2025-02-24T17:03:36.038062Z"
    }
   },
   "cell_type": "code",
   "source": [
    "import numpy as np\n",
    "from core.imb import class_weights\n",
    "\n",
    "print(class_weights(Y_train))"
   ],
   "id": "6452e36efa9a5aba",
   "outputs": [
    {
     "name": "stdout",
     "output_type": "stream",
     "text": [
      "{0: 0.36024048559559513, 1: 0.1397595144044049}\n"
     ]
    }
   ],
   "execution_count": 8
  },
  {
   "metadata": {
    "ExecuteTime": {
     "end_time": "2025-02-24T02:42:04.322910Z",
     "start_time": "2025-02-24T02:42:04.320953Z"
    }
   },
   "cell_type": "code",
   "source": [
    "import numpy as np\n",
    "\n",
    "def apply_cutmix(x, y):\n",
    "    shf = list(range(len(x)))\n",
    "    np.random.shuffle(shf)\n",
    "    x_mix = []\n",
    "    y_mix = []\n",
    "    for i in range(len(x)):\n",
    "        a = (x[i], y[i])\n",
    "        b = (x[shf[i]], y[shf[i]])\n",
    "        xc, yc = preprocessing.cutmix(a, b)\n",
    "        x_mix.append(xc)\n",
    "        y_mix.append(yc)\n",
    "    return np.asarray(x_mix), np.asarray(y_mix)"
   ],
   "id": "a492e54789ca4ecb",
   "outputs": [],
   "execution_count": 9
  },
  {
   "metadata": {
    "ExecuteTime": {
     "end_time": "2025-02-24T02:42:06.977439Z",
     "start_time": "2025-02-24T02:42:06.428815Z"
    }
   },
   "cell_type": "code",
   "source": [
    "from keras import callbacks as cb, metrics as metr, optimizers\n",
    "from core import create_model, preprocessing, imb\n",
    "\n",
    "callbacks = [cb.EarlyStopping(patience=5, verbose=1)]\n",
    "model = create_model('resnet-18', resize)\n",
    "metrics = [metr.BinaryCrossentropy(name='loss'), metr.BinaryCrossentropy('val_loss'), metr.Recall(name='recall'), metr.Recall(name='val_recall')]\n",
    "optimizer = optimizers.Adam()\n",
    "loss = lambda t, y: losses.weighted_bce(t, y, w)"
   ],
   "id": "94e5961a756d9bd8",
   "outputs": [],
   "execution_count": 10
  },
  {
   "metadata": {
    "ExecuteTime": {
     "end_time": "2025-02-24T02:43:01.773986Z",
     "start_time": "2025-02-24T02:42:08.640569Z"
    }
   },
   "cell_type": "code",
   "source": [
    "from core import loop\n",
    "\n",
    "\n",
    "history = loop.training_loop(\n",
    "    X_train, Y_train, X_val, Y_val,\n",
    "    model,\n",
    "    4,\n",
    "    64,\n",
    "    metrics,\n",
    "    optimizer,\n",
    "    callbacks,\n",
    "    loss,\n",
    "    apply_cutmix)\n",
    "history"
   ],
   "id": "62ab872350bc6a04",
   "outputs": [
    {
     "name": "stdout",
     "output_type": "stream",
     "text": [
      "Epoch 1/4\n",
      "\u001B[1m 1/64\u001B[0m \u001B[37m━━━━━━━━━━━━━━━━━━━━\u001B[0m \u001B[1m2:19\u001B[0m 2s/stepTraining loss (for one batch) at step 0: 0.0003\n",
      "Seen so far: 64 samples\n",
      "\u001B[1m66/64\u001B[0m \u001B[32m━━━━━━━━━━━━━━━━━━━━\u001B[0m\u001B[37m\u001B[0m \u001B[1m0s\u001B[0m 193ms/steploss: 0.4274083077907562,recall: 0.8257964849472046\n"
     ]
    },
    {
     "name": "stderr",
     "output_type": "stream",
     "text": [
      "2025-02-24 03:42:23.499914: I tensorflow/core/framework/local_rendezvous.cc:405] Local rendezvous is aborting with status: OUT_OF_RANGE: End of sequence\n"
     ]
    },
    {
     "name": "stdout",
     "output_type": "stream",
     "text": [
      "val_loss: 0.6140022277832031,val_recall: 1.0\n",
      "\u001B[1m64/64\u001B[0m \u001B[32m━━━━━━━━━━━━━━━━━━━━\u001B[0m\u001B[37m\u001B[0m \u001B[1m15s\u001B[0m 210ms/step - loss: 0.4274 - val_loss: 2.9629e-04\n",
      "Epoch 2/4\n",
      "\u001B[1m 1/64\u001B[0m \u001B[37m━━━━━━━━━━━━━━━━━━━━\u001B[0m \u001B[1m11s\u001B[0m 186ms/stepTraining loss (for one batch) at step 0: 0.0003\n",
      "Seen so far: 64 samples\n",
      "\u001B[1m66/64\u001B[0m \u001B[32m━━━━━━━━━━━━━━━━━━━━\u001B[0m\u001B[37m\u001B[0m \u001B[1m0s\u001B[0m 183ms/steploss: 0.3620903491973877,recall: 0.8279486894607544\n"
     ]
    },
    {
     "name": "stderr",
     "output_type": "stream",
     "text": [
      "2025-02-24 03:42:36.253681: I tensorflow/core/framework/local_rendezvous.cc:405] Local rendezvous is aborting with status: OUT_OF_RANGE: End of sequence\n"
     ]
    },
    {
     "name": "stdout",
     "output_type": "stream",
     "text": [
      "val_loss: 1.006507158279419,val_recall: 1.0\n",
      "\u001B[1m64/64\u001B[0m \u001B[32m━━━━━━━━━━━━━━━━━━━━\u001B[0m\u001B[37m\u001B[0m \u001B[1m13s\u001B[0m 197ms/step - loss: 0.3621 - val_loss: 4.8570e-04\n",
      "Epoch 3/4\n",
      "\u001B[1m 1/64\u001B[0m \u001B[37m━━━━━━━━━━━━━━━━━━━━\u001B[0m \u001B[1m11s\u001B[0m 180ms/stepTraining loss (for one batch) at step 0: 0.0001\n",
      "Seen so far: 64 samples\n",
      "\u001B[1m66/64\u001B[0m \u001B[32m━━━━━━━━━━━━━━━━━━━━\u001B[0m\u001B[37m\u001B[0m \u001B[1m0s\u001B[0m 181ms/steploss: 0.34301382303237915,recall: 0.8256739377975464\n",
      "val_loss: 0.9321171045303345,val_recall: 1.0\n",
      "\u001B[1m64/64\u001B[0m \u001B[32m━━━━━━━━━━━━━━━━━━━━\u001B[0m\u001B[37m\u001B[0m \u001B[1m12s\u001B[0m 196ms/step - loss: 0.3430 - val_loss: 4.4981e-04\n",
      "Epoch 4/4\n",
      "\u001B[1m 1/64\u001B[0m \u001B[37m━━━━━━━━━━━━━━━━━━━━\u001B[0m \u001B[1m11s\u001B[0m 181ms/stepTraining loss (for one batch) at step 0: 0.0001\n",
      "Seen so far: 64 samples\n",
      "\u001B[1m66/64\u001B[0m \u001B[32m━━━━━━━━━━━━━━━━━━━━\u001B[0m\u001B[37m\u001B[0m \u001B[1m0s\u001B[0m 181ms/steploss: 0.32944345474243164,recall: 0.8198661804199219\n"
     ]
    },
    {
     "name": "stderr",
     "output_type": "stream",
     "text": [
      "2025-02-24 03:43:01.247866: I tensorflow/core/framework/local_rendezvous.cc:405] Local rendezvous is aborting with status: OUT_OF_RANGE: End of sequence\n"
     ]
    },
    {
     "name": "stdout",
     "output_type": "stream",
     "text": [
      "val_loss: 0.6875649690628052,val_recall: 1.0\n",
      "\u001B[1m64/64\u001B[0m \u001B[32m━━━━━━━━━━━━━━━━━━━━\u001B[0m\u001B[37m\u001B[0m \u001B[1m12s\u001B[0m 195ms/step - loss: 0.3294 - val_loss: 3.3179e-04\n"
     ]
    },
    {
     "data": {
      "text/plain": [
       "<keras.src.callbacks.history.History at 0x7f3ad5c5a840>"
      ]
     },
     "execution_count": 11,
     "metadata": {},
     "output_type": "execute_result"
    }
   ],
   "execution_count": 11
  },
  {
   "metadata": {
    "ExecuteTime": {
     "end_time": "2025-02-24T16:59:17.673950Z",
     "start_time": "2025-02-24T16:59:17.665046Z"
    }
   },
   "cell_type": "code",
   "source": [
    "import numpy as np\n",
    "\n",
    "\n",
    "np.bincount(Y_train)"
   ],
   "id": "6c47f5c5d988a3e9",
   "outputs": [
    {
     "ename": "NameError",
     "evalue": "name 'Y_train' is not defined",
     "output_type": "error",
     "traceback": [
      "\u001B[0;31m---------------------------------------------------------------------------\u001B[0m",
      "\u001B[0;31mNameError\u001B[0m                                 Traceback (most recent call last)",
      "Cell \u001B[0;32mIn[7], line 4\u001B[0m\n\u001B[1;32m      1\u001B[0m \u001B[38;5;28;01mimport\u001B[39;00m\u001B[38;5;250m \u001B[39m\u001B[38;5;21;01mnumpy\u001B[39;00m\u001B[38;5;250m \u001B[39m\u001B[38;5;28;01mas\u001B[39;00m\u001B[38;5;250m \u001B[39m\u001B[38;5;21;01mnp\u001B[39;00m\n\u001B[0;32m----> 4\u001B[0m np\u001B[38;5;241m.\u001B[39mbincount(\u001B[43mY_train\u001B[49m)\n",
      "\u001B[0;31mNameError\u001B[0m: name 'Y_train' is not defined"
     ]
    }
   ],
   "execution_count": 7
  }
 ],
 "metadata": {
  "kernelspec": {
   "display_name": "Python 3",
   "language": "python",
   "name": "python3"
  },
  "language_info": {
   "codemirror_mode": {
    "name": "ipython",
    "version": 2
   },
   "file_extension": ".py",
   "mimetype": "text/x-python",
   "name": "python",
   "nbconvert_exporter": "python",
   "pygments_lexer": "ipython2",
   "version": "2.7.6"
  }
 },
 "nbformat": 4,
 "nbformat_minor": 5
}
